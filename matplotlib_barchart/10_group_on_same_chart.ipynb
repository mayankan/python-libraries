{
 "cells": [
  {
   "cell_type": "code",
   "execution_count": 7,
   "metadata": {},
   "outputs": [
    {
     "data": {
      "text/plain": [
       "'\\n    @Author: Mayank Anand\\n    @Date: 2022-03-28\\n    @Last Modified by: Mayank Anand\\n    @Last Modified time: 2022-03-28\\n    @Title: MatPlotLib Programs - Drawing a Bar Chart with Blue Border on each Bar.\\n'"
      ]
     },
     "execution_count": 7,
     "metadata": {},
     "output_type": "execute_result"
    }
   ],
   "source": [
    "\"\"\"\n",
    "    @Author: Mayank Anand\n",
    "    @Date: 2022-03-28\n",
    "    @Last Modified by: Mayank Anand\n",
    "    @Last Modified time: 2022-03-28\n",
    "    @Title: MatPlotLib Programs - Drawing mutliple Bar Charts with group values on each Bar.\n",
    "\"\"\""
   ]
  },
  {
   "cell_type": "code",
   "execution_count": 8,
   "metadata": {},
   "outputs": [],
   "source": [
    "import matplotlib.pyplot as plt\n",
    "import numpy as np"
   ]
  },
  {
   "cell_type": "code",
   "execution_count": 9,
   "metadata": {},
   "outputs": [],
   "source": [
    "def plot_bar_chart(group_input, x_input, y_input):\n",
    "    \"\"\"\n",
    "    Description:\n",
    "        Plots Grouped Bar Chart with using given group, x and y inputs.\n",
    "    Parameter:\n",
    "        x_input: List with values to be plotted on X-Axis.\n",
    "        y_input: List with values to be plotted on Y-Axis.\n",
    "    Return:\n",
    "        None\n",
    "    \"\"\"\n",
    "    fig, axis = plt.subplots()\n",
    "    plt.bar(group_input, x_input, 0.35, alpha=0.8, color='black', label='Men')\n",
    "    plt.bar(group_input + 0.35, y_input, 0.35, alpha=0.8, color='gray', label='Women')\n",
    "    plt.xticks(group_input + 0.35,('G1','G2','G3','G4','G5'))"
   ]
  },
  {
   "cell_type": "code",
   "execution_count": 10,
   "metadata": {},
   "outputs": [],
   "source": [
    "def set_labels_title_show():\n",
    "    \"\"\"\n",
    "    Description:\n",
    "        Calls Show command of Pyplot after Setting the X and Y Axis Labels, Title and Grid on of the plot.\n",
    "    Parameter:\n",
    "        None.\n",
    "    Return:\n",
    "        None.\n",
    "    \"\"\"\n",
    "    # Turn on the grid\n",
    "    plt.minorticks_on()\n",
    "    plt.title(\"Scores of men and women\")\n",
    "    plt.xlabel(\"Groups\")\n",
    "    plt.ylabel(\"Scores\")\n",
    "    plt.show()"
   ]
  },
  {
   "cell_type": "code",
   "execution_count": 11,
   "metadata": {},
   "outputs": [],
   "source": [
    "def main():\n",
    "    men = [22,30,35,35,26]\n",
    "    women = [25,32,30,35,29]\n",
    "    group = np.arange(len(men))\n",
    "    plot_bar_chart(group, men, women)\n",
    "    set_labels_title_show()"
   ]
  },
  {
   "cell_type": "code",
   "execution_count": 12,
   "metadata": {},
   "outputs": [
    {
     "data": {
      "image/png": "[encoded data removed]",
      "text/plain": [
       "<Figure size 432x288 with 1 Axes>"
      ]
     },
     "metadata": {
      "needs_background": "light"
     },
     "output_type": "display_data"
    }
   ],
   "source": [
    "if __name__ == \"__main__\":\n",
    "    main()"
   ]
  }
 ],
 "metadata": {
  "interpreter": {
   "hash": "aee8b7b246df8f9039afb4144a1f6fd8d2ca17a180786b69acc140d282b71a49"
  },
  "kernelspec": {
   "display_name": "Python 3.10.2 64-bit",
   "language": "python",
   "name": "python3"
  },
  "language_info": {
   "codemirror_mode": {
    "name": "ipython",
    "version": 3
   },
   "file_extension": ".py",
   "mimetype": "text/x-python",
   "name": "python",
   "nbconvert_exporter": "python",
   "pygments_lexer": "ipython3",
   "version": "3.10.2"
  },
  "orig_nbformat": 4
 },
 "nbformat": 4,
 "nbformat_minor": 2
}
