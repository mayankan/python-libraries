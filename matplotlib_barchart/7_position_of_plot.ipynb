{
 "cells": [
  {
   "cell_type": "code",
   "execution_count": 1,
   "metadata": {},
   "outputs": [
    {
     "data": {
      "text/plain": [
       "'\\n    @Author: Mayank Anand\\n    @Date: 2022-03-28\\n    @Last Modified by: Mayank Anand\\n    @Last Modified time: 2022-03-28\\n    @Title: MatPlotLib Programs - Drawing a Bar Chart with Blue Border on each Bar.\\n'"
      ]
     },
     "execution_count": 1,
     "metadata": {},
     "output_type": "execute_result"
    }
   ],
   "source": [
    "\"\"\"\n",
    "    @Author: Mayank Anand\n",
    "    @Date: 2022-03-28\n",
    "    @Last Modified by: Mayank Anand\n",
    "    @Last Modified time: 2022-03-28\n",
    "    @Title: MatPlotLib Programs - Drawing a Bar Chart with specific position on each Bar.\n",
    "\"\"\""
   ]
  },
  {
   "cell_type": "code",
   "execution_count": 2,
   "metadata": {},
   "outputs": [],
   "source": [
    "import matplotlib.pyplot as plt"
   ]
  },
  {
   "cell_type": "code",
   "execution_count": 11,
   "metadata": {},
   "outputs": [],
   "source": [
    "def plot_bar_chart(x_input, y_input):\n",
    "    \"\"\"\n",
    "    Description:\n",
    "        Plots Bar Chart with specific position of each bar using given x and y inputs.\n",
    "    Parameter:\n",
    "        x_input: List with values to be plotted on X-Axis.\n",
    "        y_input: List with values to be plotted on Y-Axis.\n",
    "    Return:\n",
    "        None\n",
    "    \"\"\"\n",
    "    # Select the position of each barplots on the x-axis (space=1,3,3,2,1)\n",
    "    x_pos = [0, 2, 4, 6, 8, 10]\n",
    "    y_pos = [0, 1, 4, 7, 9, 10]\n",
    "    plt.bar(y_pos, y_input, color='skyblue', edgecolor='blue')\n",
    "    plt.xticks(x_pos, x_input)"
   ]
  },
  {
   "cell_type": "code",
   "execution_count": 12,
   "metadata": {},
   "outputs": [],
   "source": [
    "def set_labels_title_show():\n",
    "    \"\"\"\n",
    "    Description:\n",
    "        Calls Show command of Pyplot after Setting the X and Y Axis Labels, Title and Grid on of the plot.\n",
    "    Parameter:\n",
    "        None.\n",
    "    Return:\n",
    "        None.\n",
    "    \"\"\"\n",
    "    # Turn on the grid\n",
    "    plt.minorticks_on()\n",
    "    plt.title(\"Popularity of programming languages\")\n",
    "    plt.xlabel(\"Programming languages\")\n",
    "    plt.ylabel(\"Popularity\")\n",
    "    plt.show()"
   ]
  },
  {
   "cell_type": "code",
   "execution_count": 13,
   "metadata": {},
   "outputs": [],
   "source": [
    "def main():\n",
    "    languages = ['Java','Python','PHP','JavaScript','C#','C++']\n",
    "    popularity = [22.2,17.6,8.8,8,7.7,6.7]\n",
    "    plot_bar_chart(languages, popularity)\n",
    "    set_labels_title_show()"
   ]
  },
  {
   "cell_type": "code",
   "execution_count": 14,
   "metadata": {},
   "outputs": [
    {
     "data": {
      "image/png": "[encoded data removed]",
      "text/plain": [
       "<Figure size 432x288 with 1 Axes>"
      ]
     },
     "metadata": {
      "needs_background": "light"
     },
     "output_type": "display_data"
    }
   ],
   "source": [
    "if __name__ == \"__main__\":\n",
    "    main()"
   ]
  }
 ],
 "metadata": {
  "interpreter": {
   "hash": "31f2aee4e71d21fbe5cf8b01ff0e069b9275f58929596ceb00d14d90e3e16cd6"
  },
  "kernelspec": {
   "display_name": "Python 3.8.9 64-bit",
   "language": "python",
   "name": "python3"
  },
  "language_info": {
   "codemirror_mode": {
    "name": "ipython",
    "version": 3
   },
   "file_extension": ".py",
   "mimetype": "text/x-python",
   "name": "python",
   "nbconvert_exporter": "python",
   "pygments_lexer": "ipython3",
   "version": "3.10.2"
  },
  "orig_nbformat": 4
 },
 "nbformat": 4,
 "nbformat_minor": 2
}
