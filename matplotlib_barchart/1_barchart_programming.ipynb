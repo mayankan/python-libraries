{
 "cells": [
  {
   "cell_type": "code",
   "execution_count": 1,
   "metadata": {},
   "outputs": [
    {
     "data": {
      "text/plain": [
       "'\\n    @Author: Mayank Anand\\n    @Date: 2022-03-28\\n    @Last Modified by: Mayank Anand\\n    @Last Modified time: 2022-03-28\\n    @Title: MatPlotLib Programs - Drawing a Bar Chart of Programming Languages\\n'"
      ]
     },
     "execution_count": 1,
     "metadata": {},
     "output_type": "execute_result"
    }
   ],
   "source": [
    "\"\"\"\n",
    "    @Author: Mayank Anand\n",
    "    @Date: 2022-03-28\n",
    "    @Last Modified by: Mayank Anand\n",
    "    @Last Modified time: 2022-03-28\n",
    "    @Title: MatPlotLib Programs - Drawing a Bar Chart of Programming Languages\n",
    "\"\"\""
   ]
  },
  {
   "cell_type": "code",
   "execution_count": 2,
   "metadata": {},
   "outputs": [],
   "source": [
    "import matplotlib.pyplot as plt"
   ]
  },
  {
   "cell_type": "code",
   "execution_count": 3,
   "metadata": {},
   "outputs": [],
   "source": [
    "def plot_bar_chart(x_input, y_input):\n",
    "    \"\"\"\n",
    "    Description:\n",
    "        Plots Bar Chart using given x and y inputs.\n",
    "    Parameter:\n",
    "        x_input: List with values to be plotted on X-Axis.\n",
    "        y_input: List with values to be plotted on Y-Axis.\n",
    "    Return:\n",
    "        None\n",
    "    \"\"\"\n",
    "    plt.bar(x_input, y_input)"
   ]
  },
  {
   "cell_type": "code",
   "execution_count": 4,
   "metadata": {},
   "outputs": [],
   "source": [
    "def set_labels_title_show():\n",
    "    \"\"\"\n",
    "    Description:\n",
    "        Calls Show command of Pyplot after Setting the X and Y Axis Labels, Title of the plot.\n",
    "    Parameter:\n",
    "        None.\n",
    "    Return:\n",
    "        None.\n",
    "    \"\"\"\n",
    "    plt.title(\"Popularity of programming languages\")\n",
    "    plt.xlabel(\"Programming languages\")\n",
    "    plt.ylabel(\"Popularity\")\n",
    "    plt.show()"
   ]
  },
  {
   "cell_type": "code",
   "execution_count": 5,
   "metadata": {},
   "outputs": [],
   "source": [
    "def main():\n",
    "    languages = ['Java','Python','PHP','JavaScript','C#','C++']\n",
    "    popularity = [22.2,17.6,8.8,8,7.7,6.7]\n",
    "    plot_bar_chart(languages, popularity)\n",
    "    set_labels_title_show()"
   ]
  },
  {
   "cell_type": "code",
   "execution_count": 6,
   "metadata": {},
   "outputs": [
    {
     "data": {
      "image/png": "[encoded data removed]",
      "text/plain": [
       "<Figure size 432x288 with 1 Axes>"
      ]
     },
     "metadata": {
      "needs_background": "light"
     },
     "output_type": "display_data"
    }
   ],
   "source": [
    "if __name__ == \"__main__\":\n",
    "    main()"
   ]
  }
 ],
 "metadata": {
  "interpreter": {
   "hash": "aee8b7b246df8f9039afb4144a1f6fd8d2ca17a180786b69acc140d282b71a49"
  },
  "kernelspec": {
   "display_name": "Python 3.10.2 64-bit",
   "language": "python",
   "name": "python3"
  },
  "language_info": {
   "codemirror_mode": {
    "name": "ipython",
    "version": 3
   },
   "file_extension": ".py",
   "mimetype": "text/x-python",
   "name": "python",
   "nbconvert_exporter": "python",
   "pygments_lexer": "ipython3",
   "version": "3.10.2"
  },
  "orig_nbformat": 4
 },
 "nbformat": 4,
 "nbformat_minor": 2
}
