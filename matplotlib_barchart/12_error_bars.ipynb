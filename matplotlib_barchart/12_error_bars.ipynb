{
 "cells": [
  {
   "cell_type": "code",
   "execution_count": 1,
   "metadata": {},
   "outputs": [
    {
     "data": {
      "text/plain": [
       "'\\n    @Author: Mayank Anand\\n    @Date: 2022-03-28\\n    @Last Modified by: Mayank Anand\\n    @Last Modified time: 2022-03-28\\n    @Title: MatPlotLib Programs - Drawing a Bar Chart with Blue Border on each Bar.\\n'"
      ]
     },
     "execution_count": 1,
     "metadata": {},
     "output_type": "execute_result"
    }
   ],
   "source": [
    "\"\"\"\n",
    "    @Author: Mayank Anand\n",
    "    @Date: 2022-03-28\n",
    "    @Last Modified by: Mayank Anand\n",
    "    @Last Modified time: 2022-03-28\n",
    "    @Title: MatPlotLib Programs - Drawing a Bar Chart with Blue Border on each Bar.\n",
    "\"\"\""
   ]
  },
  {
   "cell_type": "code",
   "execution_count": 2,
   "metadata": {},
   "outputs": [],
   "source": [
    "import matplotlib.pyplot as plt\n",
    "import numpy as np"
   ]
  },
  {
   "cell_type": "code",
   "execution_count": 3,
   "metadata": {},
   "outputs": [],
   "source": [
    "def plot_bar_chart(mean, std, index):\n",
    "    \"\"\"\n",
    "    Description:\n",
    "        Plots Error Bar Chart using given group, x and y inputs.\n",
    "    Parameter:\n",
    "        mean: List with values to be plotted on Y-Axis.\n",
    "        std: List with values to be plotted as Bins.\n",
    "        index: List with values to be plotted on X-Axis.\n",
    "    Return:\n",
    "        None\n",
    "    \"\"\"\n",
    "    plt.bar(index, mean, 0.35, yerr=std, color=\"blue\")"
   ]
  },
  {
   "cell_type": "code",
   "execution_count": 4,
   "metadata": {},
   "outputs": [],
   "source": [
    "def set_labels_title_show():\n",
    "    \"\"\"\n",
    "    Description:\n",
    "        Calls Show command of Pyplot after Setting the X and Y Axis Labels, Title and Grid on of the plot.\n",
    "    Parameter:\n",
    "        None.\n",
    "    Return:\n",
    "        None.\n",
    "    \"\"\"\n",
    "    # Turn on the grid\n",
    "    plt.minorticks_on()\n",
    "    plt.xlabel(\"Velocity\")\n",
    "    plt.ylabel(\"Score\")\n",
    "    plt.title(\"Bar plots with error bars\")\n",
    "    plt.show()"
   ]
  },
  {
   "cell_type": "code",
   "execution_count": 5,
   "metadata": {},
   "outputs": [],
   "source": [
    "def main():\n",
    "    mean = [0.2474, 0.1235, 0.1737, 0.1824]\n",
    "    std = [0.3314, 0.2278, 0.2836, 0.2645]\n",
    "    index = np.arange(len(mean))\n",
    "    plot_bar_chart(mean, std, index)\n",
    "    set_labels_title_show()"
   ]
  },
  {
   "cell_type": "code",
   "execution_count": 6,
   "metadata": {},
   "outputs": [
    {
     "data": {
      "image/png": "[encoded data removed]",
      "text/plain": [
       "<Figure size 432x288 with 1 Axes>"
      ]
     },
     "metadata": {
      "needs_background": "light"
     },
     "output_type": "display_data"
    }
   ],
   "source": [
    "if __name__ == \"__main__\":\n",
    "    main()"
   ]
  }
 ],
 "metadata": {
  "interpreter": {
   "hash": "aee8b7b246df8f9039afb4144a1f6fd8d2ca17a180786b69acc140d282b71a49"
  },
  "kernelspec": {
   "display_name": "Python 3.10.2 64-bit",
   "language": "python",
   "name": "python3"
  },
  "language_info": {
   "codemirror_mode": {
    "name": "ipython",
    "version": 3
   },
   "file_extension": ".py",
   "mimetype": "text/x-python",
   "name": "python",
   "nbconvert_exporter": "python",
   "pygments_lexer": "ipython3",
   "version": "3.10.2"
  },
  "orig_nbformat": 4
 },
 "nbformat": 4,
 "nbformat_minor": 2
}
