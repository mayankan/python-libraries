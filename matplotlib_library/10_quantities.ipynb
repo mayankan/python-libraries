{
 "cells": [
  {
   "cell_type": "code",
   "execution_count": 9,
   "metadata": {},
   "outputs": [
    {
     "data": {
      "text/plain": [
       "'\\n    @Author: Mayank Anand\\n    @Date: 2022-03-25\\n    @Last Modified by: Mayank Anand\\n    @Last Modified time: 2022-03-25\\n    @Title: MatPlotLib Programs - Quantities which have an x and y position\\n'"
      ]
     },
     "execution_count": 9,
     "metadata": {},
     "output_type": "execute_result"
    }
   ],
   "source": [
    "\"\"\"\n",
    "    @Author: Mayank Anand\n",
    "    @Date: 2022-03-26\n",
    "    @Last Modified by: Mayank Anand\n",
    "    @Last Modified time: 2022-03-26\n",
    "    @Title: MatPlotLib Programs - Quantities which have an x and y position\n",
    "\"\"\""
   ]
  },
  {
   "cell_type": "code",
   "execution_count": 10,
   "metadata": {},
   "outputs": [],
   "source": [
    "import matplotlib.pyplot as plt"
   ]
  },
  {
   "cell_type": "code",
   "execution_count": 11,
   "metadata": {},
   "outputs": [],
   "source": [
    "def draw_quantities(x1_input, y1_input, x2_input, y2_input):\n",
    "    \"\"\"\n",
    "    Description:\n",
    "        Shows a matplotlib plot using given x1, y1, x2 and y2 axis points.\n",
    "    Parameter:\n",
    "        x1_input: List with values to be plotted on X-Axis in blue color.\n",
    "        y1_input: List with values to be plotted on Y-Axis in blue color.\n",
    "        x2_input: List with values to be plotted on X-Axis in red color.\n",
    "        y2_input: List with values to be plotted on Y-Axis in red color.\n",
    "    Return:\n",
    "        None.\n",
    "    \"\"\"\n",
    "    # bs stands for blue squared and ro stands for red dot.\n",
    "    plt.plot(x1_input, y1_input, \"bs\", x2_input, y2_input, \"ro\")"
   ]
  },
  {
   "cell_type": "code",
   "execution_count": 12,
   "metadata": {},
   "outputs": [],
   "source": [
    "def add_title_legend_label_show():\n",
    "    \"\"\"\n",
    "    Description:\n",
    "        Calls Show command of Pyplot after Setting the X and Y Axis Labels, Title and Legend of the plot.\n",
    "    Parameter:\n",
    "        None.\n",
    "    Return:\n",
    "        None.\n",
    "    \"\"\"\n",
    "    plt.xlabel(\"X-Axis\")\n",
    "    plt.ylabel(\"Y-Axis\")\n",
    "    plt.title(\"Display quantities with x and y position\")\n",
    "    plt.legend()\n",
    "    plt.show()"
   ]
  },
  {
   "cell_type": "code",
   "execution_count": 13,
   "metadata": {},
   "outputs": [],
   "source": [
    "def main():\n",
    "    x=[1,2,3,4,5]\n",
    "    y=[3,2,6,4,3]\n",
    "    x1=[1,2,3,4,5]\n",
    "    y1=[9,8,7,5,1]\n",
    "    draw_quantities(x, y, x1, y1)\n",
    "    add_title_legend_label_show()"
   ]
  },
  {
   "cell_type": "code",
   "execution_count": 14,
   "metadata": {},
   "outputs": [
    {
     "name": "stderr",
     "output_type": "stream",
     "text": [
      "No artists with labels found to put in legend.  Note that artists whose label start with an underscore are ignored when legend() is called with no argument.\n"
     ]
    },
    {
     "data": {
      "image/png": "[encoded data removed]",
      "text/plain": [
       "<Figure size 432x288 with 1 Axes>"
      ]
     },
     "metadata": {
      "needs_background": "light"
     },
     "output_type": "display_data"
    }
   ],
   "source": [
    "if __name__ == \"__main__\":\n",
    "    main()"
   ]
  }
 ],
 "metadata": {
  "interpreter": {
   "hash": "aee8b7b246df8f9039afb4144a1f6fd8d2ca17a180786b69acc140d282b71a49"
  },
  "kernelspec": {
   "display_name": "Python 3.10.2 64-bit",
   "language": "python",
   "name": "python3"
  },
  "language_info": {
   "codemirror_mode": {
    "name": "ipython",
    "version": 3
   },
   "file_extension": ".py",
   "mimetype": "text/x-python",
   "name": "python",
   "nbconvert_exporter": "python",
   "pygments_lexer": "ipython3",
   "version": "3.10.2"
  },
  "orig_nbformat": 4
 },
 "nbformat": 4,
 "nbformat_minor": 2
}
