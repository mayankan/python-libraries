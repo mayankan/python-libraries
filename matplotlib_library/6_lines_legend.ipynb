{
 "cells": [
  {
   "cell_type": "code",
   "execution_count": 1,
   "metadata": {},
   "outputs": [
    {
     "data": {
      "text/plain": [
       "'\\n    @Author: Mayank Anand\\n    @Date: 2022-03-26\\n    @Last Modified by: Mayank Anand\\n    @Last Modified time: 2022-03-26\\n    @Title: MatPlotLib Programs - Multiple Lines in Line Chart with legends, different widths and colors\\n'"
      ]
     },
     "execution_count": 1,
     "metadata": {},
     "output_type": "execute_result"
    }
   ],
   "source": [
    "\"\"\"\n",
    "    @Author: Mayank Anand\n",
    "    @Date: 2022-03-26\n",
    "    @Last Modified by: Mayank Anand\n",
    "    @Last Modified time: 2022-03-26\n",
    "    @Title: MatPlotLib Programs - Multiple Lines in Line Chart with legends, different widths and colors\n",
    "\"\"\""
   ]
  },
  {
   "cell_type": "code",
   "execution_count": 2,
   "metadata": {},
   "outputs": [],
   "source": [
    "import matplotlib.pyplot as plt"
   ]
  },
  {
   "cell_type": "code",
   "execution_count": 3,
   "metadata": {},
   "outputs": [],
   "source": [
    "def draw_multiple_line_charts(x_input, y_input, line_name, line_width, line_color):\n",
    "    \"\"\"\n",
    "    Description:\n",
    "        Shows a matplotlib line plot using given x and y axis points with given line label on legend.\n",
    "    Parameter:\n",
    "        x_inputs: List with values to be plotted on X-Axis.\n",
    "        y_inputs: List with values to be plotted on Y-Axis.\n",
    "        line_name: Legend Label for Line.\n",
    "        line_width: Value for setting width for Line.\n",
    "        line_color: Value for setting color for Line.\n",
    "    Return:\n",
    "        None.\n",
    "    \"\"\"\n",
    "    plt.plot(x_input, y_input, label = line_name, linewidth = line_width, color = line_color)"
   ]
  },
  {
   "cell_type": "code",
   "execution_count": 4,
   "metadata": {},
   "outputs": [],
   "source": [
    "def add_title_legend_label_show():\n",
    "    \"\"\"\n",
    "    Description:\n",
    "        Calls Show command of Pyplot after Setting the X and Y Axis Labels, Title and Legend of the plot.\n",
    "    Parameter:\n",
    "        None.\n",
    "    Return:\n",
    "        None.\n",
    "    \"\"\"\n",
    "    plt.xlabel(\"X-Axis\")\n",
    "    plt.ylabel(\"Y-Axis\")\n",
    "    plt.title(\"Display Different width, colors Line Charts\")\n",
    "    plt.legend()\n",
    "    plt.show()"
   ]
  },
  {
   "cell_type": "code",
   "execution_count": 5,
   "metadata": {},
   "outputs": [],
   "source": [
    "def main():\n",
    "    # Setting x and y values for first line\n",
    "    x = [25,34,32,26]\n",
    "    y = [12,42,16,67]\n",
    "    # Calling function to plot a line.\n",
    "    draw_multiple_line_charts(x, y, 'Line 1', 5, 'b')\n",
    "    # Setting x and y values for second line\n",
    "    x1 = [53,13,75,29]\n",
    "    y1 = [46,73,26,16]\n",
    "    # Calling function to plot second line.\n",
    "    draw_multiple_line_charts(x1, y1, 'Line 2', 7, 'r')\n",
    "    # Calls function to set X and Y labels, title and add legends to Plot.\n",
    "    add_title_legend_label_show()"
   ]
  },
  {
   "cell_type": "code",
   "execution_count": 6,
   "metadata": {},
   "outputs": [
    {
     "data": {
      "image/png": "[encoded data removed]",
      "text/plain": [
       "<Figure size 432x288 with 1 Axes>"
      ]
     },
     "metadata": {
      "needs_background": "light"
     },
     "output_type": "display_data"
    }
   ],
   "source": [
    "if __name__ == \"__main__\":\n",
    "    main()"
   ]
  }
 ],
 "metadata": {
  "interpreter": {
   "hash": "aee8b7b246df8f9039afb4144a1f6fd8d2ca17a180786b69acc140d282b71a49"
  },
  "kernelspec": {
   "display_name": "Python 3.10.2 64-bit",
   "language": "python",
   "name": "python3"
  },
  "language_info": {
   "codemirror_mode": {
    "name": "ipython",
    "version": 3
   },
   "file_extension": ".py",
   "mimetype": "text/x-python",
   "name": "python",
   "nbconvert_exporter": "python",
   "pygments_lexer": "ipython3",
   "version": "3.10.2"
  },
  "orig_nbformat": 4
 },
 "nbformat": 4,
 "nbformat_minor": 2
}
