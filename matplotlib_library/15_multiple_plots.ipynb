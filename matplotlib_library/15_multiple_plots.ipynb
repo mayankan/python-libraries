{
 "cells": [
  {
   "cell_type": "code",
   "execution_count": 2,
   "metadata": {},
   "outputs": [
    {
     "data": {
      "text/plain": [
       "'\\n    @Author: Mayank Anand\\n    @Date: 2022-03-25\\n    @Last Modified by: Mayank Anand\\n    @Last Modified time: 2022-03-25\\n    @Title: MatPlotLib Programs - Multiple Lines in Line Chart with Legends\\n'"
      ]
     },
     "execution_count": 2,
     "metadata": {},
     "output_type": "execute_result"
    }
   ],
   "source": [
    "\"\"\"\n",
    "    @Author: Mayank Anand\n",
    "    @Date: 2022-03-25\n",
    "    @Last Modified by: Mayank Anand\n",
    "    @Last Modified time: 2022-03-25\n",
    "    @Title: MatPlotLib Programs - Multiple Sub Plot Line Chart\n",
    "\"\"\""
   ]
  },
  {
   "cell_type": "code",
   "execution_count": 3,
   "metadata": {},
   "outputs": [],
   "source": [
    "import matplotlib.pyplot as plt\n",
    "import numpy as np "
   ]
  },
  {
   "cell_type": "code",
   "execution_count": 4,
   "metadata": {},
   "outputs": [],
   "source": [
    "def axis_sub_plot_1(x_input, y_input):\n",
    "    \"\"\"\n",
    "    Description:\n",
    "        Shows matplotlib Sub Line plot using given X-Axis and Y-Axis points on 1/4 Axis.\n",
    "    Parameter:\n",
    "        x_input: List with values to be plotted on X-Axis.\n",
    "        y_input: List with values to be plotted on Y-Axis.\n",
    "    Return:\n",
    "        None.\n",
    "    \"\"\"\n",
    "    axis=plt.subplot2grid((8,8),(0,0),rowspan=4,colspan=4)\n",
    "    axis.plot(x_input, y_input)"
   ]
  },
  {
   "cell_type": "code",
   "execution_count": 5,
   "metadata": {},
   "outputs": [],
   "source": [
    "def axis_sub_plot_2(x_input, y_input):\n",
    "    \"\"\"\n",
    "    Description:\n",
    "        Shows matplotlib Sub Line plot using given X-Axis and Y-Axis points on 2/4 Axis.\n",
    "    Parameter:\n",
    "        x_input: List with values to be plotted on X-Axis.\n",
    "        y_input: List with values to be plotted on Y-Axis.\n",
    "    Return:\n",
    "        None.\n",
    "    \"\"\"\n",
    "    axis=plt.subplot2grid((8,8),(4,0),rowspan=4,colspan=4)\n",
    "    axis.plot(x_input, y_input)"
   ]
  },
  {
   "cell_type": "code",
   "execution_count": 6,
   "metadata": {},
   "outputs": [],
   "source": [
    "def axis_sub_plot_3(x_input, y_input):\n",
    "    \"\"\"\n",
    "    Description:\n",
    "        Shows matplotlib Sub Line plot using given X-Axis and Y-Axis points on 3/4 Axis.\n",
    "    Parameter:\n",
    "        x_input: List with values to be plotted on X-Axis.\n",
    "        y_input: List with values to be plotted on Y-Axis.\n",
    "    Return:\n",
    "        None.\n",
    "    \"\"\"\n",
    "    axis=plt.subplot2grid((8,8),(0,4),rowspan=4,colspan=4)\n",
    "    axis.plot(x_input, y_input)"
   ]
  },
  {
   "cell_type": "code",
   "execution_count": 7,
   "metadata": {},
   "outputs": [],
   "source": [
    "def axis_sub_plot_4(x_input, y_input):\n",
    "    \"\"\"\n",
    "    Description:\n",
    "        Shows matplotlib Sub Line plot using given X-Axis and Y-Axis points on 4/4 Axis.\n",
    "    Parameter:\n",
    "        x_input: List with values to be plotted on X-Axis.\n",
    "        y_input: List with values to be plotted on Y-Axis.\n",
    "    Return:\n",
    "        None.\n",
    "    \"\"\"\n",
    "    axis=plt.subplot2grid((8,8),(4,4),rowspan=4,colspan=4)\n",
    "    axis.plot(x_input, y_input)"
   ]
  },
  {
   "cell_type": "code",
   "execution_count": 8,
   "metadata": {},
   "outputs": [],
   "source": [
    "def main():\n",
    "    x=np.array([10,20,30,40,50])\n",
    "    y=np.array([23,35,48,14,41])\n",
    "    axis_sub_plot_1(x, y)\n",
    "    axis_sub_plot_2(x*2, y)\n",
    "    axis_sub_plot_3(x, y*2)\n",
    "    axis_sub_plot_4(x, y**3)\n",
    "    plt.show()"
   ]
  },
  {
   "cell_type": "code",
   "execution_count": 9,
   "metadata": {},
   "outputs": [
    {
     "data": {
      "image/png": "[encoded data removed]",
      "text/plain": [
       "<Figure size 432x288 with 4 Axes>"
      ]
     },
     "metadata": {
      "needs_background": "light"
     },
     "output_type": "display_data"
    }
   ],
   "source": [
    "if __name__ == \"__main__\":\n",
    "    main()"
   ]
  }
 ],
 "metadata": {
  "interpreter": {
   "hash": "aee8b7b246df8f9039afb4144a1f6fd8d2ca17a180786b69acc140d282b71a49"
  },
  "kernelspec": {
   "display_name": "Python 3.10.2 64-bit",
   "language": "python",
   "name": "python3"
  },
  "language_info": {
   "codemirror_mode": {
    "name": "ipython",
    "version": 3
   },
   "file_extension": ".py",
   "mimetype": "text/x-python",
   "name": "python",
   "nbconvert_exporter": "python",
   "pygments_lexer": "ipython3",
   "version": "3.10.2"
  },
  "orig_nbformat": 4
 },
 "nbformat": 4,
 "nbformat_minor": 2
}
