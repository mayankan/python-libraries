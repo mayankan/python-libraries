{
 "cells": [
  {
   "cell_type": "code",
   "execution_count": 1,
   "metadata": {},
   "outputs": [
    {
     "data": {
      "text/plain": [
       "'\\n    @Author: Mayank Anand\\n    @Date: 2022-03-25\\n    @Last Modified by: Mayank Anand\\n    @Last Modified time: 2022-03-25\\n    @Title: MatPlotLib Programs - Multiple Lines in Line Chart with Legends\\n'"
      ]
     },
     "execution_count": 1,
     "metadata": {},
     "output_type": "execute_result"
    }
   ],
   "source": [
    "\"\"\"\n",
    "    @Author: Mayank Anand\n",
    "    @Date: 2022-03-26\n",
    "    @Last Modified by: Mayank Anand\n",
    "    @Last Modified time: 2022-03-26\n",
    "    @Title: MatPlotLib Programs - Multiple Type of Charts\n",
    "\"\"\""
   ]
  },
  {
   "cell_type": "code",
   "execution_count": 2,
   "metadata": {},
   "outputs": [],
   "source": [
    "import matplotlib.pyplot as plt\n",
    "import numpy as np"
   ]
  },
  {
   "cell_type": "code",
   "execution_count": 3,
   "metadata": {},
   "outputs": [],
   "source": [
    "def draw_line(x_input, y_input):\n",
    "    \"\"\"\n",
    "    Description:\n",
    "        Shows matplotlib Line plot using given x and y axis points.\n",
    "    Parameter:\n",
    "        x_input: List with values to be plotted on X-Axis.\n",
    "        y_input: List with values to be plotted on Y-Axis.\n",
    "    Return:\n",
    "        None.\n",
    "    \"\"\"\n",
    "    plt.plot(x_input, y_input, 'c')\n",
    "    plt.show()"
   ]
  },
  {
   "cell_type": "code",
   "execution_count": null,
   "metadata": {},
   "outputs": [],
   "source": [
    "def draw_scatter(x_input, y_input):\n",
    "    \"\"\"\n",
    "    Description:\n",
    "        Shows matplotlib Scatter plot using given x and y axis points.\n",
    "    Parameter:\n",
    "        x_input: List with values to be plotted on X-Axis.\n",
    "        y_input: List with values to be plotted on Y-Axis.\n",
    "    Return:\n",
    "        None.\n",
    "    \"\"\"\n",
    "    plt.scatter(x_input, y_input, marker = 'o', color = 'g')\n",
    "    plt.show()"
   ]
  },
  {
   "cell_type": "code",
   "execution_count": null,
   "metadata": {},
   "outputs": [],
   "source": [
    "def draw_bar(x_input, y_input):\n",
    "    \"\"\"\n",
    "    Description:\n",
    "        Shows matplotlib Bar chart using given x and y axis points.\n",
    "    Parameter:\n",
    "        x_input: List with values to be plotted on X-Axis.\n",
    "        y_input: List with values to be plotted on Y-Axis.\n",
    "    Return:\n",
    "        None.\n",
    "    \"\"\"\n",
    "    plt.bar(x_input, y_input, color='c')\n",
    "    plt.show()"
   ]
  },
  {
   "cell_type": "code",
   "execution_count": null,
   "metadata": {},
   "outputs": [],
   "source": [
    "def draw_hist(x_input, y_input):\n",
    "    \"\"\"\n",
    "    Description:\n",
    "        Shows matplotlib Histogram using given x and y axis points.\n",
    "    Parameter:\n",
    "        x_input: List with values to be plotted on X-Axis.\n",
    "        y_input: List with values to be plotted on Y-Axis.\n",
    "    Return:\n",
    "        None.\n",
    "    \"\"\"\n",
    "    plt.hist(x_input, bins=y_input)\n",
    "    plt.show()"
   ]
  },
  {
   "cell_type": "code",
   "execution_count": null,
   "metadata": {},
   "outputs": [],
   "source": [
    "def draw_pie(given_input):\n",
    "    \"\"\"\n",
    "    Description:\n",
    "        Shows matplotlib Pie Chart using given points.\n",
    "    Parameter:\n",
    "        given_input: List with values to be plotted on Pie Chart.\n",
    "    Return:\n",
    "        None.\n",
    "    \"\"\"\n",
    "    plt.pie(given_input, labels= given_input, autopct='%1.2f%%')\n",
    "    plt.show()"
   ]
  },
  {
   "cell_type": "code",
   "execution_count": 4,
   "metadata": {},
   "outputs": [],
   "source": [
    "def main():\n",
    "    x = np.array([1,2,3,4,5])\n",
    "    y = np.array([1,2,3,4,5])\n",
    "    # Plotting Line Plot\n",
    "    draw_line(x, y)\n",
    "    # Plotting Scatter Plot\n",
    "    draw_scatter(x, y)\n",
    "    # Plotting Bar Chart\n",
    "    draw_bar(x, y)\n",
    "    # Plotting Histogram\n",
    "    draw_hist(x, y)\n",
    "    # Plotting Pie Chart\n",
    "    draw_pie(x)"
   ]
  },
  {
   "cell_type": "code",
   "execution_count": 5,
   "metadata": {},
   "outputs": [
    {
     "data": {
      "image/png": "[encoded data removed]",
      "text/plain": [
       "<Figure size 432x288 with 2 Axes>"
      ]
     },
     "metadata": {
      "needs_background": "light"
     },
     "output_type": "display_data"
    },
    {
     "data": {
      "image/png": "[encoded data removed]",
      "text/plain": [
       "<Figure size 432x288 with 2 Axes>"
      ]
     },
     "metadata": {
      "needs_background": "light"
     },
     "output_type": "display_data"
    },
    {
     "data": {
      "image/png": "[encoded data removed]",
      "text/plain": [
       "<Figure size 432x288 with 1 Axes>"
      ]
     },
     "metadata": {},
     "output_type": "display_data"
    }
   ],
   "source": [
    "if __name__ == \"__main__\":\n",
    "    main()"
   ]
  }
 ],
 "metadata": {
  "interpreter": {
   "hash": "aee8b7b246df8f9039afb4144a1f6fd8d2ca17a180786b69acc140d282b71a49"
  },
  "kernelspec": {
   "display_name": "Python 3.10.2 64-bit",
   "language": "python",
   "name": "python3"
  },
  "language_info": {
   "codemirror_mode": {
    "name": "ipython",
    "version": 3
   },
   "file_extension": ".py",
   "mimetype": "text/x-python",
   "name": "python",
   "nbconvert_exporter": "python",
   "pygments_lexer": "ipython3",
   "version": "3.10.2"
  },
  "orig_nbformat": 4
 },
 "nbformat": 4,
 "nbformat_minor": 2
}
