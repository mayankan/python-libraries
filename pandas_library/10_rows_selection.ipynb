{
 "cells": [
  {
   "cell_type": "code",
   "execution_count": 1,
   "metadata": {},
   "outputs": [
    {
     "data": {
      "text/plain": [
       "'\\n    @Author: Mayank Anand\\n    @Date: 2022-03-24\\n    @Last Modified by: Mayank Anand\\n    @Last Modified time: 2022-03-24\\n    @Title: numPy Programs - Rows selection using condition in Data Frame\\n'"
      ]
     },
     "execution_count": 1,
     "metadata": {},
     "output_type": "execute_result"
    }
   ],
   "source": [
    "\"\"\"\n",
    "    @Author: Mayank Anand\n",
    "    @Date: 2022-03-24\n",
    "    @Last Modified by: Mayank Anand\n",
    "    @Last Modified time: 2022-03-24\n",
    "    @Title: numPy Programs - Rows selection using condition in Data Frame\n",
    "\"\"\""
   ]
  },
  {
   "cell_type": "code",
   "execution_count": 2,
   "metadata": {},
   "outputs": [],
   "source": [
    "# Importing required libraries\n",
    "import pandas as pd\n",
    "import numpy as np\n",
    "import logger\n",
    "\n",
    "logger = logger.logging_init('rows_selection')"
   ]
  },
  {
   "cell_type": "code",
   "execution_count": 3,
   "metadata": {},
   "outputs": [],
   "source": [
    "def create_dataframe(given_dict, given_labels):\n",
    "    \"\"\"\n",
    "    Description:\n",
    "        Creates Pandas Data Frame using given dictionary and labels.\n",
    "    Paramters:\n",
    "        given_dict: Given Dictionary to add to Pandas Data Frame.\n",
    "        given_labels: Given Labels to add to Pandas Data Frame.\n",
    "    Return:\n",
    "        Pandas Data Frame created using given dictionary and labels.\n",
    "    \"\"\"\n",
    "    return pd.DataFrame(given_dict, given_labels)"
   ]
  },
  {
   "cell_type": "code",
   "execution_count": 4,
   "metadata": {},
   "outputs": [],
   "source": [
    "def get_rows_selection(given_df):\n",
    "    \"\"\"\n",
    "    Description:\n",
    "        Gets values from given Data Frame where attempts is greater than 2.\n",
    "    Paramters:\n",
    "        given_df: Given Data Frame from which attempts greater than 2 values are to be fetched.\n",
    "    Return:\n",
    "        Data Frame with values having attempts greater than 2.\n",
    "    \"\"\"\n",
    "    return given_df[given_df['attempts'] > 2]"
   ]
  },
  {
   "cell_type": "code",
   "execution_count": 5,
   "metadata": {},
   "outputs": [],
   "source": [
    "def main():\n",
    "    exam_data = {'name': ['Anastasia', 'Dima', 'Katherine', 'James', 'Emily', 'Michael', 'Matthew', 'Laura', 'Kevin', 'Jonas'],\n",
    "\t'score': [12.5, 9, 16.5, np.nan, 9, 20, 14.5, np.nan, 8, 19],\n",
    "    'attempts': [1, 3, 2, 3, 2, 3, 1, 1, 2, 1],\n",
    "    'qualify': ['yes', 'no', 'yes', 'no', 'no', 'yes', 'yes', 'no', 'no', 'yes']}\n",
    "    labels = ['a', 'b', 'c', 'd', 'e', 'f', 'g', 'h', 'i', 'j']\n",
    "    created_df = create_dataframe(exam_data, labels)\n",
    "    logger.info(f\"Given Data Frame: \\n {created_df}\")\n",
    "    logger.info(f\"Rows where attempts are greater than 2 of given Data Frame: \\n {get_rows_selection(created_df)}\")"
   ]
  },
  {
   "cell_type": "code",
   "execution_count": 6,
   "metadata": {},
   "outputs": [
    {
     "name": "stderr",
     "output_type": "stream",
     "text": [
      "2022-03-24 18:18:23,779:INFO:rows_selection:Given Dictionary: {'name': ['Anastasia', 'Dima', 'Katherine', 'James', 'Emily', 'Michael', 'Matthew', 'Laura', 'Kevin', 'Jonas'], 'score': [12.5, 9, 16.5, nan, 9, 20, 14.5, nan, 8, 19], 'attempts': [1, 3, 2, 3, 2, 3, 1, 1, 2, 1], 'qualify': ['yes', 'no', 'yes', 'no', 'no', 'yes', 'yes', 'no', 'no', 'yes']}\n",
      "2022-03-24 18:18:23,779:INFO:rows_selection:Given Labels: ['a', 'b', 'c', 'd', 'e', 'f', 'g', 'h', 'i', 'j']\n",
      "2022-03-24 18:18:23,784:INFO:rows_selection:Rows where attempts are greater than 2 of given Data Frame: \n",
      "       name  score  attempts qualify\n",
      "b     Dima    9.0         3      no\n",
      "d    James    NaN         3      no\n",
      "f  Michael   20.0         3     yes\n"
     ]
    }
   ],
   "source": [
    "if __name__ == \"__main__\":\n",
    "    main()"
   ]
  }
 ],
 "metadata": {
  "interpreter": {
   "hash": "aee8b7b246df8f9039afb4144a1f6fd8d2ca17a180786b69acc140d282b71a49"
  },
  "kernelspec": {
   "display_name": "Python 3.10.2 64-bit",
   "language": "python",
   "name": "python3"
  },
  "language_info": {
   "codemirror_mode": {
    "name": "ipython",
    "version": 3
   },
   "file_extension": ".py",
   "mimetype": "text/x-python",
   "name": "python",
   "nbconvert_exporter": "python",
   "pygments_lexer": "ipython3",
   "version": "3.10.2"
  },
  "orig_nbformat": 4
 },
 "nbformat": 4,
 "nbformat_minor": 2
}
