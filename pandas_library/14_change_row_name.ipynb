{
 "cells": [
  {
   "cell_type": "code",
   "execution_count": 1,
   "metadata": {},
   "outputs": [
    {
     "data": {
      "text/plain": [
       "'\\n    @Author: Mayank Anand\\n    @Date: 2022-03-24\\n    @Last Modified by: Mayank Anand\\n    @Last Modified time: 2022-03-24\\n    @Title: numPy Programs - Check null values from row in Pandas Data Frame\\n'"
      ]
     },
     "execution_count": 1,
     "metadata": {},
     "output_type": "execute_result"
    }
   ],
   "source": [
    "\"\"\"\n",
    "    @Author: Mayank Anand\n",
    "    @Date: 2022-03-24\n",
    "    @Last Modified by: Mayank Anand\n",
    "    @Last Modified time: 2022-03-24\n",
    "    @Title: numPy Programs - Check null values from row in Pandas Data Frame\n",
    "\"\"\""
   ]
  },
  {
   "cell_type": "code",
   "execution_count": 2,
   "metadata": {},
   "outputs": [],
   "source": [
    "# Importing required libraries\n",
    "import pandas as pd\n",
    "import numpy as np\n",
    "import logger\n",
    "\n",
    "logger = logger.logging_init('null_df')"
   ]
  },
  {
   "cell_type": "code",
   "execution_count": 3,
   "metadata": {},
   "outputs": [],
   "source": [
    "def create_dataframe(given_dict, given_labels):\n",
    "    \"\"\"\n",
    "    Description:\n",
    "        Creates Pandas Data Frame using given dictionary and labels.\n",
    "    Paramters:\n",
    "        given_dict: Given Dictionary to add to Pandas Data Frame.\n",
    "        given_labels: Given Labels to add to Pandas Data Frame.\n",
    "    Return:\n",
    "        Pandas Data Frame created using given dictionary and labels.\n",
    "    \"\"\"\n",
    "    return pd.DataFrame(given_dict, given_labels)"
   ]
  },
  {
   "cell_type": "code",
   "execution_count": 4,
   "metadata": {},
   "outputs": [],
   "source": [
    "def change_row_value(given_df):\n",
    "    \"\"\"\n",
    "    Description:\n",
    "        Changes d row value in score column to 11.5\n",
    "    Parameter:\n",
    "        given_df: Given Data Frame in which specified value has to be changed.\n",
    "    Return:\n",
    "        Given Data Frame with score column and d row value changed to 11.5.\n",
    "    \"\"\"\n",
    "    given_df['score'].loc['d'] = 11.5\n",
    "    return given_df"
   ]
  },
  {
   "cell_type": "code",
   "execution_count": 5,
   "metadata": {},
   "outputs": [],
   "source": [
    "def main():\n",
    "    exam_data = {'name': ['Anastasia', 'Dima', 'Katherine', 'James', 'Emily', 'Michael', 'Matthew', 'Laura', 'Kevin', 'Jonas'],\n",
    "\t'score': [12.5, 9, 16.5, np.nan, 9, 20, 14.5, np.nan, 8, 19],\n",
    "    'attempts': [1, 3, 2, 3, 2, 3, 1, 1, 2, 1],\n",
    "    'qualify': ['yes', 'no', 'yes', 'no', 'no', 'yes', 'yes', 'no', 'no', 'yes']}\n",
    "    labels = ['a', 'b', 'c', 'd', 'e', 'f', 'g', 'h', 'i', 'j']\n",
    "    created_df = create_dataframe(exam_data, labels)\n",
    "    logger.info(f\"Given Data Frame: \\n {created_df}\")\n",
    "    logger.info(f\"Data Frame after changing specific row value to 11.5: \\n {change_row_value(created_df)}\")"
   ]
  },
  {
   "cell_type": "code",
   "execution_count": 6,
   "metadata": {},
   "outputs": [
    {
     "name": "stderr",
     "output_type": "stream",
     "text": [
      "2022-03-25 10:08:50,449:INFO:null_df:Given Data Frame: \n",
      "         name  score  attempts qualify\n",
      "a  Anastasia   12.5         1     yes\n",
      "b       Dima    9.0         3      no\n",
      "c  Katherine   16.5         2     yes\n",
      "d      James    NaN         3      no\n",
      "e      Emily    9.0         2      no\n",
      "f    Michael   20.0         3     yes\n",
      "g    Matthew   14.5         1     yes\n",
      "h      Laura    NaN         1      no\n",
      "i      Kevin    8.0         2      no\n",
      "j      Jonas   19.0         1     yes\n",
      "/var/folders/69/7vt2tpbd52bf3rh1m_fpv59r0000gn/T/ipykernel_63836/25380273.py:10: SettingWithCopyWarning: \n",
      "A value is trying to be set on a copy of a slice from a DataFrame\n",
      "\n",
      "See the caveats in the documentation: https://pandas.pydata.org/pandas-docs/stable/user_guide/indexing.html#returning-a-view-versus-a-copy\n",
      "  given_df['score'].loc['d'] = 11.5\n",
      "2022-03-25 10:08:50,556:INFO:null_df:Data Frame after changing specific row value to 11.5: \n",
      "         name  score  attempts qualify\n",
      "a  Anastasia   12.5         1     yes\n",
      "b       Dima    9.0         3      no\n",
      "c  Katherine   16.5         2     yes\n",
      "d      James   11.5         3      no\n",
      "e      Emily    9.0         2      no\n",
      "f    Michael   20.0         3     yes\n",
      "g    Matthew   14.5         1     yes\n",
      "h      Laura    NaN         1      no\n",
      "i      Kevin    8.0         2      no\n",
      "j      Jonas   19.0         1     yes\n"
     ]
    }
   ],
   "source": [
    "if __name__ == \"__main__\":\n",
    "    main()"
   ]
  }
 ],
 "metadata": {
  "interpreter": {
   "hash": "aee8b7b246df8f9039afb4144a1f6fd8d2ca17a180786b69acc140d282b71a49"
  },
  "kernelspec": {
   "display_name": "Python 3.10.2 64-bit",
   "language": "python",
   "name": "python3"
  },
  "language_info": {
   "codemirror_mode": {
    "name": "ipython",
    "version": 3
   },
   "file_extension": ".py",
   "mimetype": "text/x-python",
   "name": "python",
   "nbconvert_exporter": "python",
   "pygments_lexer": "ipython3",
   "version": "3.10.2"
  },
  "orig_nbformat": 4
 },
 "nbformat": 4,
 "nbformat_minor": 2
}
