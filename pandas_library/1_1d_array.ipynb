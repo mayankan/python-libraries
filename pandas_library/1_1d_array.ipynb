{
 "cells": [
  {
   "cell_type": "code",
   "execution_count": 1,
   "metadata": {},
   "outputs": [
    {
     "data": {
      "text/plain": [
       "'\\n    @Author: Mayank Anand\\n    @Date: 2022-03-24\\n    @Last Modified by: Mayank Anand\\n    @Last Modified time: 2022-03-24\\n    @Title: numPy Programs - 1 Dimensional Array in Pandas\\n'"
      ]
     },
     "execution_count": 1,
     "metadata": {},
     "output_type": "execute_result"
    }
   ],
   "source": [
    "\"\"\"\n",
    "    @Author: Mayank Anand\n",
    "    @Date: 2022-03-24\n",
    "    @Last Modified by: Mayank Anand\n",
    "    @Last Modified time: 2022-03-24\n",
    "    @Title: numPy Programs - 1 Dimensional Array in Pandas\n",
    "\"\"\""
   ]
  },
  {
   "cell_type": "code",
   "execution_count": 2,
   "metadata": {},
   "outputs": [],
   "source": [
    "# Importing required libraries\n",
    "import pandas as pd\n",
    "import logger\n",
    "\n",
    "logger = logger.logging_init('1d_array_pd')"
   ]
  },
  {
   "cell_type": "code",
   "execution_count": 3,
   "metadata": {},
   "outputs": [],
   "source": [
    "def create_pd_series(given_array):\n",
    "    \"\"\"\n",
    "    Description:\n",
    "        Creates a pandas series from given array.\n",
    "    Parameter:\n",
    "        given_array: Given array which is to be converted to Pandas Series.\n",
    "    Return:\n",
    "        Pandas Series created from given array.\n",
    "    \"\"\"\n",
    "    # create the Series\n",
    "    return pd.Series(given_array)"
   ]
  },
  {
   "cell_type": "code",
   "execution_count": 4,
   "metadata": {},
   "outputs": [],
   "source": [
    "def main():\n",
    "    # create the one-dimensional array\n",
    "    sample_array = [1, 2, 3, 4, 5]\n",
    "    logger.info(f\"Given array: \\n {sample_array}\")\n",
    "    logger.info(f\"Pandas Series created from given array: \\n {create_pd_series(sample_array)}\")"
   ]
  },
  {
   "cell_type": "code",
   "execution_count": 5,
   "metadata": {},
   "outputs": [
    {
     "name": "stderr",
     "output_type": "stream",
     "text": [
      "2022-03-24 15:17:43,477:INFO:1d_array_pd:Given array: \n",
      " [1, 2, 3, 4, 5]\n",
      "2022-03-24 15:17:43,483:INFO:1d_array_pd:Pandas Series created from given array: \n",
      " 0    1\n",
      "1    2\n",
      "2    3\n",
      "3    4\n",
      "4    5\n",
      "dtype: int64\n"
     ]
    }
   ],
   "source": [
    "if __name__ == \"__main__\":\n",
    "    main()"
   ]
  }
 ],
 "metadata": {
  "interpreter": {
   "hash": "6da4a036b2b59ae1a611421fb19f0e0cb2f7c8dbc75f7b4165b79785cfc84971"
  },
  "kernelspec": {
   "display_name": "Python 3.9.5 64-bit",
   "language": "python",
   "name": "python3"
  },
  "language_info": {
   "codemirror_mode": {
    "name": "ipython",
    "version": 3
   },
   "file_extension": ".py",
   "mimetype": "text/x-python",
   "name": "python",
   "nbconvert_exporter": "python",
   "pygments_lexer": "ipython3",
   "version": "3.9.5"
  },
  "orig_nbformat": 4
 },
 "nbformat": 4,
 "nbformat_minor": 2
}
