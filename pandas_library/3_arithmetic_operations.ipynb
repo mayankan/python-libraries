{
 "cells": [
  {
   "cell_type": "code",
   "execution_count": 1,
   "metadata": {},
   "outputs": [
    {
     "data": {
      "text/plain": [
       "'\\n    @Author: Mayank Anand\\n    @Date: 2022-03-24\\n    @Last Modified by: Mayank Anand\\n    @Last Modified time: 2022-03-24\\n    @Title: numPy Programs - Arithmetic Operations on Pandas Series\\n'"
      ]
     },
     "execution_count": 1,
     "metadata": {},
     "output_type": "execute_result"
    }
   ],
   "source": [
    "\"\"\"\n",
    "    @Author: Mayank Anand\n",
    "    @Date: 2022-03-24\n",
    "    @Last Modified by: Mayank Anand\n",
    "    @Last Modified time: 2022-03-24\n",
    "    @Title: numPy Programs - Arithmetic Operations on Pandas Series\n",
    "\"\"\""
   ]
  },
  {
   "cell_type": "code",
   "execution_count": 2,
   "metadata": {},
   "outputs": [],
   "source": [
    "# Importing required libraries\n",
    "import pandas as pd\n",
    "import logger\n",
    "\n",
    "logger = logger.logging_init('series_arithmetic_operations')"
   ]
  },
  {
   "cell_type": "code",
   "execution_count": 3,
   "metadata": {},
   "outputs": [],
   "source": [
    "def series_addition(given_series1, given_series2):\n",
    "    \"\"\"\n",
    "    Description:\n",
    "        Adds two given Pandas Series.\n",
    "    Parameter:\n",
    "        given_series1: Given Pandas Series to add to another given Pandas Series.\n",
    "        given_series2: Another Given Pandas Series to add to first given Pandas Series.\n",
    "    Return:\n",
    "        Sum of given two Pandas Series.\n",
    "    \"\"\"\n",
    "    return given_series1 + given_series2"
   ]
  },
  {
   "cell_type": "code",
   "execution_count": 4,
   "metadata": {},
   "outputs": [],
   "source": [
    "def series_subtraction(given_series1, given_series2):\n",
    "    \"\"\"\n",
    "    Description:\n",
    "        Subtracts Pandas Series 2 from Pandas Series 1.\n",
    "    Parameter:\n",
    "        given_series1: Given Pandas Series to subtract to another given Pandas Series.\n",
    "        given_series2: Another Given Pandas Series to subtract from first given Pandas Series.\n",
    "    Return:\n",
    "    Return:\n",
    "        Value after subtracting Pandas Series 2 from Pandas Series 1.\n",
    "    \"\"\"\n",
    "    return given_series1 - given_series2"
   ]
  },
  {
   "cell_type": "code",
   "execution_count": 5,
   "metadata": {},
   "outputs": [],
   "source": [
    "def series_multiplication(given_series1, given_series2):\n",
    "    \"\"\"\n",
    "    Description:\n",
    "        Multiplies two given Pandas Series.\n",
    "    Parameter:\n",
    "        given_series1: Given Pandas Series to multiply to another given Pandas Series.\n",
    "        given_series2: Another Given Pandas Series to multiply to first given Pandas Series.\n",
    "    Return:\n",
    "        Product of two given Pandas Series.\n",
    "    \"\"\"\n",
    "    return given_series1 * given_series2"
   ]
  },
  {
   "cell_type": "code",
   "execution_count": 6,
   "metadata": {},
   "outputs": [],
   "source": [
    "def series_division(given_series1, given_series2):\n",
    "    \"\"\"\n",
    "    Description:\n",
    "        Divides Series 2 from Series 1.\n",
    "    Parameter:\n",
    "        given_series1: Given Pandas Series to divide to another given Pandas Series.\n",
    "        given_series2: Another Given Pandas Series to divide from first given Pandas Series.\n",
    "    Return:\n",
    "        Value after dividing Pandas Series 2 from Pandas Series 1.\n",
    "    \"\"\"\n",
    "    return given_series1 / given_series2"
   ]
  },
  {
   "cell_type": "code",
   "execution_count": 7,
   "metadata": {},
   "outputs": [],
   "source": [
    "def main():\n",
    "    sample_series1 = pd.Series([1, 2, 3, 4, 5])\n",
    "    sample_series2 = pd.Series([6, 7, 8, 9, 10])\n",
    "    logger.info(f\"Given Pandas Series 1: \\n {sample_series1}\")\n",
    "    logger.info(f\"Given Pandas Series 2: \\n {sample_series2}\")\n",
    "    logger.info(f\"Addition of two Series: \\n {series_addition(sample_series1, sample_series2)}\")\n",
    "    logger.info(f\"Subtraction of two Series: \\n {series_subtraction(sample_series1, sample_series2)}\")\n",
    "    logger.info(f\"Multiplication of two Series: \\n {series_multiplication(sample_series1, sample_series2)}\")\n",
    "    logger.info(f\"Division of two Series: \\n {series_division(sample_series1, sample_series2)}\")"
   ]
  },
  {
   "cell_type": "code",
   "execution_count": 8,
   "metadata": {},
   "outputs": [
    {
     "name": "stderr",
     "output_type": "stream",
     "text": [
      "2022-03-24 16:29:10,482:INFO:series_arithmetic_operations:Given Pandas Series 1: \n",
      " 0    1\n",
      "1    2\n",
      "2    3\n",
      "3    4\n",
      "4    5\n",
      "dtype: int64\n",
      "2022-03-24 16:29:10,483:INFO:series_arithmetic_operations:Given Pandas Series 2: \n",
      " 0     6\n",
      "1     7\n",
      "2     8\n",
      "3     9\n",
      "4    10\n",
      "dtype: int64\n",
      "2022-03-24 16:29:10,484:INFO:series_arithmetic_operations:Addition of two Series: \n",
      " 0     7\n",
      "1     9\n",
      "2    11\n",
      "3    13\n",
      "4    15\n",
      "dtype: int64\n",
      "2022-03-24 16:29:10,485:INFO:series_arithmetic_operations:Subtraction of two Series: \n",
      " 0   -5\n",
      "1   -5\n",
      "2   -5\n",
      "3   -5\n",
      "4   -5\n",
      "dtype: int64\n",
      "2022-03-24 16:29:10,485:INFO:series_arithmetic_operations:Multiplication of two Series: \n",
      " 0     6\n",
      "1    14\n",
      "2    24\n",
      "3    36\n",
      "4    50\n",
      "dtype: int64\n",
      "2022-03-24 16:29:10,486:INFO:series_arithmetic_operations:Division of two Series: \n",
      " 0    0.166667\n",
      "1    0.285714\n",
      "2    0.375000\n",
      "3    0.444444\n",
      "4    0.500000\n",
      "dtype: float64\n"
     ]
    }
   ],
   "source": [
    "if __name__ == \"__main__\":\n",
    "    main()"
   ]
  }
 ],
 "metadata": {
  "interpreter": {
   "hash": "aee8b7b246df8f9039afb4144a1f6fd8d2ca17a180786b69acc140d282b71a49"
  },
  "kernelspec": {
   "display_name": "Python 3.10.2 64-bit",
   "language": "python",
   "name": "python3"
  },
  "language_info": {
   "codemirror_mode": {
    "name": "ipython",
    "version": 3
   },
   "file_extension": ".py",
   "mimetype": "text/x-python",
   "name": "python",
   "nbconvert_exporter": "python",
   "pygments_lexer": "ipython3",
   "version": "3.10.2"
  },
  "orig_nbformat": 4
 },
 "nbformat": 4,
 "nbformat_minor": 2
}
