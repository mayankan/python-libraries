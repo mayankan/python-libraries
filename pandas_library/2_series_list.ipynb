{
 "cells": [
  {
   "cell_type": "code",
   "execution_count": 1,
   "metadata": {},
   "outputs": [
    {
     "data": {
      "text/plain": [
       "'\\n    @Author: Mayank Anand\\n    @Date: 2022-03-24\\n    @Last Modified by: Mayank Anand\\n    @Last Modified time: 2022-03-24\\n    @Title: numPy Programs - Pandas Series to List\\n'"
      ]
     },
     "execution_count": 1,
     "metadata": {},
     "output_type": "execute_result"
    }
   ],
   "source": [
    "\"\"\"\n",
    "    @Author: Mayank Anand\n",
    "    @Date: 2022-03-24\n",
    "    @Last Modified by: Mayank Anand\n",
    "    @Last Modified time: 2022-03-24\n",
    "    @Title: numPy Programs - Pandas Series to List\n",
    "\"\"\""
   ]
  },
  {
   "cell_type": "code",
   "execution_count": 2,
   "metadata": {},
   "outputs": [],
   "source": [
    "# Importing required libraries\n",
    "import pandas as pd\n",
    "import logger\n",
    "\n",
    "logger = logger.logging_init('series_to_list')"
   ]
  },
  {
   "cell_type": "code",
   "execution_count": 3,
   "metadata": {},
   "outputs": [],
   "source": [
    "def series_to_list(given_series):\n",
    "    \"\"\"\n",
    "    Description:\n",
    "        Creates List from given Pandas Series.\n",
    "    Parameter:\n",
    "        given_series: Given Pandas Series to convert to list.\n",
    "    Return:\n",
    "        List derived from given Pandas Series.\n",
    "    \"\"\"\n",
    "    return given_series.to_list()"
   ]
  },
  {
   "cell_type": "code",
   "execution_count": 4,
   "metadata": {},
   "outputs": [],
   "source": [
    "def main():\n",
    "    sample_series = pd.Series([1, 2, 3, 4, 5])\n",
    "    logger.info(f\"Given Pandas Series: \\n {sample_series}\")\n",
    "    logger.info(f\"List fetched from given series: \\n {series_to_list(sample_series)}\")"
   ]
  },
  {
   "cell_type": "code",
   "execution_count": 5,
   "metadata": {},
   "outputs": [
    {
     "name": "stderr",
     "output_type": "stream",
     "text": [
      "2022-03-24 16:21:43,550:INFO:series_to_list:Given Pandas Series: \n",
      " 0    1\n",
      "1    2\n",
      "2    3\n",
      "3    4\n",
      "4    5\n",
      "dtype: int64\n",
      "2022-03-24 16:21:43,550:INFO:series_to_list:List fetched from given series: \n",
      " [1, 2, 3, 4, 5]\n"
     ]
    }
   ],
   "source": [
    "if __name__ == \"__main__\":\n",
    "    main()"
   ]
  }
 ],
 "metadata": {
  "interpreter": {
   "hash": "aee8b7b246df8f9039afb4144a1f6fd8d2ca17a180786b69acc140d282b71a49"
  },
  "kernelspec": {
   "display_name": "Python 3.10.2 64-bit",
   "language": "python",
   "name": "python3"
  },
  "language_info": {
   "codemirror_mode": {
    "name": "ipython",
    "version": 3
   },
   "file_extension": ".py",
   "mimetype": "text/x-python",
   "name": "python",
   "nbconvert_exporter": "python",
   "pygments_lexer": "ipython3",
   "version": "3.10.2"
  },
  "orig_nbformat": 4
 },
 "nbformat": 4,
 "nbformat_minor": 2
}
