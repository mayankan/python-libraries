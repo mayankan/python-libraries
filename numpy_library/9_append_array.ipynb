{
 "cells": [
  {
   "cell_type": "code",
   "execution_count": 1,
   "metadata": {},
   "outputs": [
    {
     "data": {
      "text/plain": [
       "'\\n    @Author: Mayank Anand\\n    @Date: 2022-03-23\\n    @Last Modified by: Mayank Anand\\n    @Last Modified time: 2022-03-23\\n    @Title: numPy Programs - Append Items to numPy Array\\n'"
      ]
     },
     "execution_count": 1,
     "metadata": {},
     "output_type": "execute_result"
    }
   ],
   "source": [
    "\"\"\"\n",
    "    @Author: Mayank Anand\n",
    "    @Date: 2022-03-22\n",
    "    @Last Modified by: Mayank Anand\n",
    "    @Last Modified time: 2022-03-22\n",
    "    @Title: numPy Programs - Append Items to numPy Array\n",
    "\"\"\""
   ]
  },
  {
   "cell_type": "code",
   "execution_count": 2,
   "metadata": {},
   "outputs": [],
   "source": [
    "# Importing required libraries\n",
    "import numpy as np\n",
    "import logger\n",
    "\n",
    "logger = logger.logging_init('append_items_array')"
   ]
  },
  {
   "cell_type": "code",
   "execution_count": 3,
   "metadata": {},
   "outputs": [],
   "source": [
    "def append_array(given_array, items):\n",
    "    \"\"\"\n",
    "    Description:\n",
    "        Appends given items in given array.\n",
    "    Parameters:\n",
    "        given_array: Given array in which given items are to be appended.\n",
    "        items: Given items to be appended to the given array.\n",
    "    Return:\n",
    "        Array after appending given items.\n",
    "    \"\"\"\n",
    "    return np.append(given_array, items)"
   ]
  },
  {
   "cell_type": "code",
   "execution_count": 4,
   "metadata": {},
   "outputs": [],
   "source": [
    "def main():\n",
    "    sample_array = np.array([1, 2, 3, 4, 5])\n",
    "    logger.info(f\"Given Array:\")\n",
    "    logger.info(f\"{sample_array}\")\n",
    "    values_to_append = [6, 7, 8, 9]\n",
    "    logger.info(f\"Appending values: {values_to_append}\")\n",
    "    logger.info(f\"Array after appending above values:\")\n",
    "    logger.info(f\"{append_array(sample_array, values_to_append)}\")"
   ]
  },
  {
   "cell_type": "code",
   "execution_count": 5,
   "metadata": {},
   "outputs": [
    {
     "name": "stderr",
     "output_type": "stream",
     "text": [
      "2022-03-22 19:56:31,952:INFO:append_items_array:Given Array:\n",
      "2022-03-22 19:56:31,959:INFO:append_items_array:[1 2 3 4 5]\n",
      "2022-03-22 19:56:31,961:INFO:append_items_array:Appending values: [6, 7, 8, 9]\n",
      "2022-03-22 19:56:31,963:INFO:append_items_array:Array after appending above values:\n",
      "2022-03-22 19:56:31,966:INFO:append_items_array:[1 2 3 4 5 6 7 8 9]\n"
     ]
    }
   ],
   "source": [
    "if __name__ == \"__main__\":\n",
    "    main()"
   ]
  }
 ],
 "metadata": {
  "interpreter": {
   "hash": "aee8b7b246df8f9039afb4144a1f6fd8d2ca17a180786b69acc140d282b71a49"
  },
  "kernelspec": {
   "display_name": "Python 3.10.2 64-bit",
   "language": "python",
   "name": "python3"
  },
  "language_info": {
   "codemirror_mode": {
    "name": "ipython",
    "version": 3
   },
   "file_extension": ".py",
   "mimetype": "text/x-python",
   "name": "python",
   "nbconvert_exporter": "python",
   "pygments_lexer": "ipython3",
   "version": "3.10.2"
  },
  "orig_nbformat": 4
 },
 "nbformat": 4,
 "nbformat_minor": 2
}
