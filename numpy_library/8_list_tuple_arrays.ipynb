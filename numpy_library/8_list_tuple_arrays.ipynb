{
 "cells": [
  {
   "cell_type": "code",
   "execution_count": 2,
   "metadata": {},
   "outputs": [
    {
     "data": {
      "text/plain": [
       "'\\n    @Author: Mayank Anand\\n    @Date: 2022-03-22\\n    @Last Modified by: Mayank Anand\\n    @Last Modified time: 2022-03-22\\n    @Title: numPy Programs - Convert List and Tuple to numPy Array\\n'"
      ]
     },
     "execution_count": 2,
     "metadata": {},
     "output_type": "execute_result"
    }
   ],
   "source": [
    "\"\"\"\n",
    "    @Author: Mayank Anand\n",
    "    @Date: 2022-03-22\n",
    "    @Last Modified by: Mayank Anand\n",
    "    @Last Modified time: 2022-03-22\n",
    "    @Title: numPy Programs - Convert List and Tuple to numPy Array\n",
    "\"\"\""
   ]
  },
  {
   "cell_type": "code",
   "execution_count": 3,
   "metadata": {},
   "outputs": [],
   "source": [
    "# Importing required libraries\n",
    "import numpy as np\n",
    "import logger\n",
    "\n",
    "logger = logger.logging_init('list_tuple_array')"
   ]
  },
  {
   "cell_type": "code",
   "execution_count": 4,
   "metadata": {},
   "outputs": [],
   "source": [
    "def list_to_array(given_list):\n",
    "    \"\"\"\n",
    "    Description :\n",
    "        Converts given list to numPy array.\n",
    "    Parameters :\n",
    "        given_list: Given list which is to be converted to numPy array.\n",
    "    Return :\n",
    "        Array converted from Given List.\n",
    "    \"\"\"\n",
    "    return np.asarray(given_list)"
   ]
  },
  {
   "cell_type": "code",
   "execution_count": 5,
   "metadata": {},
   "outputs": [],
   "source": [
    "def tuple_to_array(given_tuple):\n",
    "    \"\"\"\n",
    "    Description :\n",
    "        Converts given tuple to numPy array.\n",
    "    Parameters :\n",
    "        given_tuple: Given tuple which is to be converted to numPy array.\n",
    "    Return :\n",
    "        Array converted from Given Tuple.\n",
    "    \"\"\"\n",
    "    return np.asarray(given_tuple)"
   ]
  },
  {
   "cell_type": "code",
   "execution_count": 6,
   "metadata": {},
   "outputs": [],
   "source": [
    "def main():\n",
    "    sample_list = [2, 4, 6, 8, 3, 5, 7, 9]\n",
    "    logger.info(f\"Given List: {sample_list}\")\n",
    "    logger.info(f\"List Converted to numPy Array: {list_to_array(sample_list)}\")\n",
    "    sample_tuple = (2, 4, 6, 3, 5, 7)\n",
    "    logger.info(f\"Given Tuple: {sample_tuple}\")\n",
    "    logger.info(f\"Tuple Converted to numPy Array: {tuple_to_array(sample_tuple)}\")"
   ]
  },
  {
   "cell_type": "code",
   "execution_count": 7,
   "metadata": {},
   "outputs": [
    {
     "name": "stderr",
     "output_type": "stream",
     "text": [
      "2022-03-23 09:53:23,280:INFO:list_tuple_array:Given List : [2, 4, 6, 8, 3, 5, 7, 9]\n",
      "2022-03-23 09:53:23,281:INFO:list_tuple_array:List Converted to numPy Array: [2 4 6 8 3 5 7 9]\n",
      "2022-03-23 09:53:23,282:INFO:list_tuple_array:Given Tuple : (2, 4, 6, 3, 5, 7)\n",
      "2022-03-23 09:53:23,283:INFO:list_tuple_array:Tuple Converted to numPy Array: [2 4 6 3 5 7]\n"
     ]
    }
   ],
   "source": [
    "if __name__ == \"__main__\":\n",
    "    main()"
   ]
  }
 ],
 "metadata": {
  "interpreter": {
   "hash": "aee8b7b246df8f9039afb4144a1f6fd8d2ca17a180786b69acc140d282b71a49"
  },
  "kernelspec": {
   "display_name": "Python 3.10.2 64-bit",
   "language": "python",
   "name": "python3"
  },
  "language_info": {
   "codemirror_mode": {
    "name": "ipython",
    "version": 3
   },
   "file_extension": ".py",
   "mimetype": "text/x-python",
   "name": "python",
   "nbconvert_exporter": "python",
   "pygments_lexer": "ipython3",
   "version": "3.10.2"
  },
  "orig_nbformat": 4
 },
 "nbformat": 4,
 "nbformat_minor": 2
}
