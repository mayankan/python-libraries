{
 "cells": [
  {
   "cell_type": "code",
   "execution_count": 1,
   "metadata": {},
   "outputs": [
    {
     "data": {
      "text/plain": [
       "'\\n    @Author: Mayank Anand\\n    @Date: 2022-03-22\\n    @Last Modified by: Mayank Anand\\n    @Last Modified time: 2022-03-22\\n    @Title: numPy Programs - Save a NumPy array to a text file\\n'"
      ]
     },
     "execution_count": 1,
     "metadata": {},
     "output_type": "execute_result"
    }
   ],
   "source": [
    "\"\"\"\n",
    "    @Author: Mayank Anand\n",
    "    @Date: 2022-03-22\n",
    "    @Last Modified by: Mayank Anand\n",
    "    @Last Modified time: 2022-03-22\n",
    "    @Title: numPy Programs - Save a NumPy array to a text file\n",
    "\"\"\""
   ]
  },
  {
   "cell_type": "code",
   "execution_count": 1,
   "metadata": {},
   "outputs": [
    {
     "ename": "ImportError",
     "evalue": "attempted relative import with no known parent package",
     "output_type": "error",
     "traceback": [
      "\u001b[0;31m---------------------------------------------------------------------------\u001b[0m",
      "\u001b[0;31mImportError\u001b[0m                               Traceback (most recent call last)",
      "\u001b[1;32m/Users/mayankanand/My Files/BridgeLabz/python-libraries/numpy/16_array_to_text.ipynb Cell 2'\u001b[0m in \u001b[0;36m<cell line: 3>\u001b[0;34m()\u001b[0m\n\u001b[1;32m      <a href='vscode-notebook-cell:/Users/mayankanand/My%20Files/BridgeLabz/python-libraries/numpy/16_array_to_text.ipynb#ch0000001?line=0'>1</a>\u001b[0m \u001b[39m# Importing required libraries\u001b[39;00m\n\u001b[1;32m      <a href='vscode-notebook-cell:/Users/mayankanand/My%20Files/BridgeLabz/python-libraries/numpy/16_array_to_text.ipynb#ch0000001?line=1'>2</a>\u001b[0m \u001b[39mimport\u001b[39;00m \u001b[39mnumpy\u001b[39;00m \u001b[39mas\u001b[39;00m \u001b[39mnp\u001b[39;00m\n\u001b[0;32m----> <a href='vscode-notebook-cell:/Users/mayankanand/My%20Files/BridgeLabz/python-libraries/numpy/16_array_to_text.ipynb#ch0000001?line=2'>3</a>\u001b[0m \u001b[39mfrom\u001b[39;00m \u001b[39m.\u001b[39;00m\u001b[39m.\u001b[39;00m \u001b[39mimport\u001b[39;00m logger\n\u001b[1;32m      <a href='vscode-notebook-cell:/Users/mayankanand/My%20Files/BridgeLabz/python-libraries/numpy/16_array_to_text.ipynb#ch0000001?line=4'>5</a>\u001b[0m logger \u001b[39m=\u001b[39m logger\u001b[39m.\u001b[39mlogging_init(\u001b[39m'\u001b[39m\u001b[39marray_to_text\u001b[39m\u001b[39m'\u001b[39m)\n",
      "\u001b[0;31mImportError\u001b[0m: attempted relative import with no known parent package"
     ]
    }
   ],
   "source": [
    "# Importing required libraries\n",
    "import numpy as np\n",
    "import logger\n",
    "\n",
    "logger = logger.logging_init('array_to_text')"
   ]
  },
  {
   "cell_type": "code",
   "execution_count": 3,
   "metadata": {},
   "outputs": [
    {
     "name": "stderr",
     "output_type": "stream",
     "text": [
      "2022-03-23 01:58:10,578:INFO:array_to_text:Content written in file: [1 2 3 4 5]\n"
     ]
    },
    {
     "name": "stdout",
     "output_type": "stream",
     "text": [
      "Given Array:\n",
      "[1 2 3 4 5]\n"
     ]
    }
   ],
   "source": [
    "# Creating an array\n",
    "sample_list = [1, 2, 3, 4, 5]\n",
    "sample_array = np.array(sample_list)\n",
    " \n",
    "# Displaying the array\n",
    "print(f\"Given Array:\")\n",
    "print(f\"{sample_array}\")\n",
    "\n",
    "# Saving the array in a text file\n",
    "with open(\"save_array.txt\", \"w+\") as txt:\n",
    "    content = str(sample_array)\n",
    "    txt.write(content)\n",
    "    txt.close()\n",
    " \n",
    "# Displaying the contents of the text file\n",
    "with open(\"save_array.txt\", \"r\") as txt:\n",
    "    content = txt.read()\n",
    "    logger.info(f\"Content written in file: {content}\")\n",
    "    txt.close()"
   ]
  }
 ],
 "metadata": {
  "interpreter": {
   "hash": "aee8b7b246df8f9039afb4144a1f6fd8d2ca17a180786b69acc140d282b71a49"
  },
  "kernelspec": {
   "display_name": "Python 3.10.2 64-bit",
   "language": "python",
   "name": "python3"
  },
  "language_info": {
   "codemirror_mode": {
    "name": "ipython",
    "version": 3
   },
   "file_extension": ".py",
   "mimetype": "text/x-python",
   "name": "python",
   "nbconvert_exporter": "python",
   "pygments_lexer": "ipython3",
   "version": "3.10.2"
  },
  "orig_nbformat": 4
 },
 "nbformat": 4,
 "nbformat_minor": 2
}
