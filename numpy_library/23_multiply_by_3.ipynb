{
 "cells": [
  {
   "cell_type": "code",
   "execution_count": 1,
   "metadata": {},
   "outputs": [
    {
     "data": {
      "text/plain": [
       "'\\n    @Author: Mayank Anand\\n    @Date: 2022-03-23\\n    @Last Modified by: Mayank Anand\\n    @Last Modified time: 2022-03-23\\n    @Title: numPy Programs - Multiple Array by 3\\n'"
      ]
     },
     "execution_count": 1,
     "metadata": {},
     "output_type": "execute_result"
    }
   ],
   "source": [
    "\"\"\"\n",
    "    @Author: Mayank Anand\n",
    "    @Date: 2022-03-23\n",
    "    @Last Modified by: Mayank Anand\n",
    "    @Last Modified time: 2022-03-23\n",
    "    @Title: numPy Programs - Multiple Array by 3\n",
    "\"\"\""
   ]
  },
  {
   "cell_type": "code",
   "execution_count": 2,
   "metadata": {},
   "outputs": [],
   "source": [
    "# Importing required libraries\n",
    "import numpy as np\n",
    "import logger\n",
    "\n",
    "logger = logger.logging_init('multiply_3')"
   ]
  },
  {
   "cell_type": "code",
   "execution_count": 3,
   "metadata": {},
   "outputs": [],
   "source": [
    "def multiply_by_3(given_array):\n",
    "    \"\"\"\n",
    "    Description:\n",
    "        Multiples each element of given array by 3.\n",
    "    Parameter:\n",
    "        given_array: Given array in which each element is multiplied by 3.\n",
    "    Return:\n",
    "        Given array with elements multipled by 3.\n",
    "    \"\"\"\n",
    "    return given_array * 3"
   ]
  },
  {
   "cell_type": "code",
   "execution_count": 4,
   "metadata": {},
   "outputs": [],
   "source": [
    "def main():\n",
    "    sample_array = np.arange(12).reshape(3,4)\n",
    "    logger.info(f\"Given array:\")\n",
    "    logger.info(f\"{sample_array}\")\n",
    "    logger.info(f\"Array elements multiplied by 3:\")\n",
    "    logger.info(f\"{multiply_by_3(sample_array)}\")"
   ]
  },
  {
   "cell_type": "code",
   "execution_count": 5,
   "metadata": {},
   "outputs": [
    {
     "name": "stderr",
     "output_type": "stream",
     "text": [
      "2022-03-24 00:00:26,640:INFO:multiply_3:Given array:\n",
      "2022-03-24 00:00:26,642:INFO:multiply_3:[[ 0  1  2  3]\n",
      " [ 4  5  6  7]\n",
      " [ 8  9 10 11]]\n",
      "2022-03-24 00:00:26,643:INFO:multiply_3:Array elements multiplied by 3:\n",
      "2022-03-24 00:00:26,644:INFO:multiply_3:[[ 0  3  6  9]\n",
      " [12 15 18 21]\n",
      " [24 27 30 33]]\n"
     ]
    }
   ],
   "source": [
    "if __name__ == \"__main__\":\n",
    "    main()"
   ]
  }
 ],
 "metadata": {
  "interpreter": {
   "hash": "aee8b7b246df8f9039afb4144a1f6fd8d2ca17a180786b69acc140d282b71a49"
  },
  "kernelspec": {
   "display_name": "Python 3.10.2 64-bit",
   "language": "python",
   "name": "python3"
  },
  "language_info": {
   "codemirror_mode": {
    "name": "ipython",
    "version": 3
   },
   "file_extension": ".py",
   "mimetype": "text/x-python",
   "name": "python",
   "nbconvert_exporter": "python",
   "pygments_lexer": "ipython3",
   "version": "3.10.2"
  },
  "orig_nbformat": 4
 },
 "nbformat": 4,
 "nbformat_minor": 2
}
