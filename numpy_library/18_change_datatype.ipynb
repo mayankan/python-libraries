{
 "cells": [
  {
   "cell_type": "code",
   "execution_count": 1,
   "metadata": {},
   "outputs": [
    {
     "data": {
      "text/plain": [
       "'\\n    @Author: Mayank Anand\\n    @Date: 2022-03-23\\n    @Last Modified by: Mayank Anand\\n    @Last Modified time: 2022-03-23\\n    @Title: numPy Programs - Change data type of Array\\n'"
      ]
     },
     "execution_count": 1,
     "metadata": {},
     "output_type": "execute_result"
    }
   ],
   "source": [
    "\"\"\"\n",
    "    @Author: Mayank Anand\n",
    "    @Date: 2022-03-23\n",
    "    @Last Modified by: Mayank Anand\n",
    "    @Last Modified time: 2022-03-23\n",
    "    @Title: numPy Programs - Change data type of Array\n",
    "\"\"\""
   ]
  },
  {
   "cell_type": "code",
   "execution_count": 2,
   "metadata": {},
   "outputs": [],
   "source": [
    "# Importing required libraries\n",
    "import numpy as np\n",
    "import logger\n",
    "\n",
    "logger = logger.logging_init('data_type_array')"
   ]
  },
  {
   "cell_type": "code",
   "execution_count": 3,
   "metadata": {},
   "outputs": [],
   "source": [
    "def change_type(given_array):\n",
    "    \"\"\"\n",
    "    Description:\n",
    "        Changes the data type of the given array.\n",
    "    Parameter:\n",
    "        given_array: Given array whose data type is to be changed.\n",
    "    Return:\n",
    "        Array with changed data type to float.\n",
    "    \"\"\"\n",
    "    float_array = given_array.astype(float)\n",
    "    return float_array"
   ]
  },
  {
   "cell_type": "code",
   "execution_count": 4,
   "metadata": {},
   "outputs": [],
   "source": [
    "def main():\n",
    "    sample_array = np.array([[1, 3, 5],[2, 5, 7]])\n",
    "    logger.info(f\"Given Array: {sample_array}\")\n",
    "    logger.info(f\"Array after changing data type to float: {change_type(sample_array)}\")"
   ]
  },
  {
   "cell_type": "code",
   "execution_count": 5,
   "metadata": {},
   "outputs": [
    {
     "name": "stderr",
     "output_type": "stream",
     "text": [
      "2022-03-23 20:11:13,050:INFO:data_type_array:Given Array: [[1 3 5]\n",
      " [2 5 7]]\n",
      "2022-03-23 20:11:13,062:INFO:data_type_array:Array after changing data type to float: [[1. 3. 5.]\n",
      " [2. 5. 7.]]\n"
     ]
    }
   ],
   "source": [
    "if __name__ == \"__main__\":\n",
    "    main()"
   ]
  }
 ],
 "metadata": {
  "interpreter": {
   "hash": "aee8b7b246df8f9039afb4144a1f6fd8d2ca17a180786b69acc140d282b71a49"
  },
  "kernelspec": {
   "display_name": "Python 3.10.2 64-bit",
   "language": "python",
   "name": "python3"
  },
  "language_info": {
   "codemirror_mode": {
    "name": "ipython",
    "version": 3
   },
   "file_extension": ".py",
   "mimetype": "text/x-python",
   "name": "python",
   "nbconvert_exporter": "python",
   "pygments_lexer": "ipython3",
   "version": "3.10.2"
  },
  "orig_nbformat": 4
 },
 "nbformat": 4,
 "nbformat_minor": 2
}
