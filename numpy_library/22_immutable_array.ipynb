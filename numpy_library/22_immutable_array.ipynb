{
 "cells": [
  {
   "cell_type": "code",
   "execution_count": 4,
   "metadata": {},
   "outputs": [
    {
     "data": {
      "text/plain": [
       "'\\n    @Author: Mayank Anand\\n    @Date: 2022-03-23\\n    @Last Modified by: Mayank Anand\\n    @Last Modified time: 2022-03-23\\n    @Title: numPy Programs - Create Immutable Array\\n'"
      ]
     },
     "execution_count": 4,
     "metadata": {},
     "output_type": "execute_result"
    }
   ],
   "source": [
    "\"\"\"\n",
    "    @Author: Mayank Anand\n",
    "    @Date: 2022-03-23\n",
    "    @Last Modified by: Mayank Anand\n",
    "    @Last Modified time: 2022-03-23\n",
    "    @Title: numPy Programs - Create Immutable Array\n",
    "\"\"\""
   ]
  },
  {
   "cell_type": "code",
   "execution_count": 5,
   "metadata": {},
   "outputs": [],
   "source": [
    "# Importing required libraries\n",
    "import numpy as np\n",
    "import logger\n",
    "\n",
    "logger = logger.logging_init('immutable_array')"
   ]
  },
  {
   "cell_type": "code",
   "execution_count": 6,
   "metadata": {},
   "outputs": [],
   "source": [
    "def immutable_array(given_array):\n",
    "    \"\"\"\n",
    "    Description:\n",
    "        Makes given array immutable.\n",
    "    Parameter:\n",
    "        given_array: Given array to be made immutable.\n",
    "    Return:\n",
    "        Immutable array.\n",
    "    \"\"\"\n",
    "    # Writable Flag of NumPy set to False.\n",
    "    given_array.flags.writeable = False\n",
    "    return given_array"
   ]
  },
  {
   "cell_type": "code",
   "execution_count": 7,
   "metadata": {},
   "outputs": [],
   "source": [
    "def main():\n",
    "    try :\n",
    "        identity_matrix = np.eye(5)\n",
    "        logger.info(f\"5 by 5 Identity Matrix: {identity_matrix}\")\n",
    "        identity_matrix[2] = 1\n",
    "        logger.info(f\"Matrix after changing 3rd value to 1: {identity_matrix}\")\n",
    "        logger.info(f\"Changing the value in Matrix after setting it to read only: {immutable_array(identity_matrix)}\")\n",
    "        logger.info(f\"Trying to change the value of the second value to 3:\")\n",
    "        identity_matrix[2] = 3\n",
    "    except Exception as e:\n",
    "        print(f\"{e} is raised.\")"
   ]
  },
  {
   "cell_type": "code",
   "execution_count": 8,
   "metadata": {},
   "outputs": [
    {
     "name": "stderr",
     "output_type": "stream",
     "text": [
      "2022-03-23 23:53:10,930:INFO:immutable_array:5 by 5 Identity Matrix: [[1. 0. 0. 0. 0.]\n",
      " [0. 1. 0. 0. 0.]\n",
      " [0. 0. 1. 0. 0.]\n",
      " [0. 0. 0. 1. 0.]\n",
      " [0. 0. 0. 0. 1.]]\n",
      "2022-03-23 23:53:10,930:INFO:immutable_array:5 by 5 Identity Matrix: [[1. 0. 0. 0. 0.]\n",
      " [0. 1. 0. 0. 0.]\n",
      " [0. 0. 1. 0. 0.]\n",
      " [0. 0. 0. 1. 0.]\n",
      " [0. 0. 0. 0. 1.]]\n",
      "2022-03-23 23:53:10,932:INFO:immutable_array:Matrix after changing 3rd value to 1: [[1. 0. 0. 0. 0.]\n",
      " [0. 1. 0. 0. 0.]\n",
      " [1. 1. 1. 1. 1.]\n",
      " [0. 0. 0. 1. 0.]\n",
      " [0. 0. 0. 0. 1.]]\n",
      "2022-03-23 23:53:10,932:INFO:immutable_array:Matrix after changing 3rd value to 1: [[1. 0. 0. 0. 0.]\n",
      " [0. 1. 0. 0. 0.]\n",
      " [1. 1. 1. 1. 1.]\n",
      " [0. 0. 0. 1. 0.]\n",
      " [0. 0. 0. 0. 1.]]\n",
      "2022-03-23 23:53:10,933:INFO:immutable_array:Changing the value in Matrix after setting it to read only: [[1. 0. 0. 0. 0.]\n",
      " [0. 1. 0. 0. 0.]\n",
      " [1. 1. 1. 1. 1.]\n",
      " [0. 0. 0. 1. 0.]\n",
      " [0. 0. 0. 0. 1.]]\n",
      "2022-03-23 23:53:10,933:INFO:immutable_array:Changing the value in Matrix after setting it to read only: [[1. 0. 0. 0. 0.]\n",
      " [0. 1. 0. 0. 0.]\n",
      " [1. 1. 1. 1. 1.]\n",
      " [0. 0. 0. 1. 0.]\n",
      " [0. 0. 0. 0. 1.]]\n",
      "2022-03-23 23:53:10,935:INFO:immutable_array:Trying to change the value of the second value to 3:\n",
      "2022-03-23 23:53:10,935:INFO:immutable_array:Trying to change the value of the second value to 3:\n"
     ]
    },
    {
     "name": "stdout",
     "output_type": "stream",
     "text": [
      "assignment destination is read-only is raised.\n"
     ]
    }
   ],
   "source": [
    "if __name__ == \"__main__\":\n",
    "    main()"
   ]
  },
  {
   "cell_type": "code",
   "execution_count": null,
   "metadata": {},
   "outputs": [],
   "source": []
  }
 ],
 "metadata": {
  "interpreter": {
   "hash": "aee8b7b246df8f9039afb4144a1f6fd8d2ca17a180786b69acc140d282b71a49"
  },
  "kernelspec": {
   "display_name": "Python 3.10.2 64-bit",
   "language": "python",
   "name": "python3"
  },
  "language_info": {
   "codemirror_mode": {
    "name": "ipython",
    "version": 3
   },
   "file_extension": ".py",
   "mimetype": "text/x-python",
   "name": "python",
   "nbconvert_exporter": "python",
   "pygments_lexer": "ipython3",
   "version": "3.10.2"
  },
  "orig_nbformat": 4
 },
 "nbformat": 4,
 "nbformat_minor": 2
}
