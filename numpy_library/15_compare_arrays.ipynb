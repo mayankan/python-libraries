{
 "cells": [
  {
   "cell_type": "code",
   "execution_count": 1,
   "metadata": {},
   "outputs": [
    {
     "data": {
      "text/plain": [
       "'\\n    @Author: Mayank Anand\\n    @Date: 2022-03-22\\n    @Last Modified by: Mayank Anand\\n    @Last Modified time: 2022-03-22\\n    @Title: numPy Programs - Compare two arrays\\n'"
      ]
     },
     "execution_count": 1,
     "metadata": {},
     "output_type": "execute_result"
    }
   ],
   "source": [
    "\"\"\"\n",
    "    @Author: Mayank Anand\n",
    "    @Date: 2022-03-22\n",
    "    @Last Modified by: Mayank Anand\n",
    "    @Last Modified time: 2022-03-22\n",
    "    @Title: numPy Programs - Compare two arrays\n",
    "\"\"\""
   ]
  },
  {
   "cell_type": "code",
   "execution_count": 2,
   "metadata": {},
   "outputs": [],
   "source": [
    "# Importing required libraries\n",
    "import numpy as np\n",
    "import logger\n",
    "\n",
    "logger = logger.logging_init('compare_arrays')"
   ]
  },
  {
   "cell_type": "code",
   "execution_count": 3,
   "metadata": {},
   "outputs": [],
   "source": [
    "def main():\n",
    "    a = np.array([1, 2])\n",
    "    b = np.array([4, 5])\n",
    "    \n",
    "    logger.info(f\"Given Array a: {a}\")\n",
    "    logger.info(f\"Given Array b: {b}\")\n",
    "\n",
    "    logger.info(\"a > b\")\n",
    "    logger.info(np.greater(a, b))\n",
    "\n",
    "    logger.info(\"a >= b\")\n",
    "    logger.info(np.greater_equal(a, b))\n",
    "\n",
    "    logger.info(\"a < b\")\n",
    "    logger.info(np.less(a, b))\n",
    "\n",
    "    logger.info(\"a <= b\")\n",
    "    logger.info(np.less_equal(a, b))"
   ]
  },
  {
   "cell_type": "code",
   "execution_count": 4,
   "metadata": {},
   "outputs": [
    {
     "name": "stderr",
     "output_type": "stream",
     "text": [
      "2022-03-23 01:46:47,528:INFO:compare_arrays:Given Array a: [1 2]\n",
      "2022-03-23 01:46:47,529:INFO:compare_arrays:Given Array b: [4 5]\n",
      "2022-03-23 01:46:47,530:INFO:compare_arrays:a > b\n",
      "2022-03-23 01:46:47,531:INFO:compare_arrays:[False False]\n",
      "2022-03-23 01:46:47,532:INFO:compare_arrays:a >= b\n",
      "2022-03-23 01:46:47,532:INFO:compare_arrays:[False False]\n",
      "2022-03-23 01:46:47,533:INFO:compare_arrays:a < b\n",
      "2022-03-23 01:46:47,533:INFO:compare_arrays:[ True  True]\n",
      "2022-03-23 01:46:47,534:INFO:compare_arrays:a <= b\n",
      "2022-03-23 01:46:47,535:INFO:compare_arrays:[ True  True]\n"
     ]
    }
   ],
   "source": [
    "if __name__ == \"__main__\":\n",
    "    main()"
   ]
  }
 ],
 "metadata": {
  "interpreter": {
   "hash": "aee8b7b246df8f9039afb4144a1f6fd8d2ca17a180786b69acc140d282b71a49"
  },
  "kernelspec": {
   "display_name": "Python 3.10.2 64-bit",
   "language": "python",
   "name": "python3"
  },
  "language_info": {
   "codemirror_mode": {
    "name": "ipython",
    "version": 3
   },
   "file_extension": ".py",
   "mimetype": "text/x-python",
   "name": "python",
   "nbconvert_exporter": "python",
   "pygments_lexer": "ipython3",
   "version": "3.10.2"
  },
  "orig_nbformat": 4
 },
 "nbformat": 4,
 "nbformat_minor": 2
}
