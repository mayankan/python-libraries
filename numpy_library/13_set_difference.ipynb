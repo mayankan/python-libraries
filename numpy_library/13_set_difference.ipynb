{
 "cells": [
  {
   "cell_type": "code",
   "execution_count": 1,
   "metadata": {},
   "outputs": [
    {
     "data": {
      "text/plain": [
       "'\\n    @Author: Mayank Anand\\n    @Date: 2022-03-22\\n    @Last Modified by: Mayank Anand\\n    @Last Modified time: 2022-03-22\\n    @Title: numPy Programs - Set Difference between two arrays\\n'"
      ]
     },
     "execution_count": 1,
     "metadata": {},
     "output_type": "execute_result"
    }
   ],
   "source": [
    "\"\"\"\n",
    "    @Author: Mayank Anand\n",
    "    @Date: 2022-03-22\n",
    "    @Last Modified by: Mayank Anand\n",
    "    @Last Modified time: 2022-03-22\n",
    "    @Title: numPy Programs - Set Difference between two arrays\n",
    "\"\"\""
   ]
  },
  {
   "cell_type": "code",
   "execution_count": 2,
   "metadata": {},
   "outputs": [],
   "source": [
    "# Importing required libraries\n",
    "import numpy as np\n",
    "import logger\n",
    "\n",
    "logger = logger.logging_init('set_difference')"
   ]
  },
  {
   "cell_type": "code",
   "execution_count": 3,
   "metadata": {},
   "outputs": [],
   "source": [
    "def set_diff(given_array1, given_array2):\n",
    "    \"\"\"\n",
    "    Description:\n",
    "        Finds the set difference of two given arrays.\n",
    "    Parameters:\n",
    "        given_array1: Given array whose set difference with another given array is to be calculated.\n",
    "        given_array2: Given another array whose difference is to be calculated with first given array.\n",
    "    Return:\n",
    "        Set difference of two given arrays.\n",
    "    \"\"\"\n",
    "    return np.setdiff1d(given_array1, given_array2)"
   ]
  },
  {
   "cell_type": "code",
   "execution_count": 4,
   "metadata": {},
   "outputs": [],
   "source": [
    "def main():\n",
    "    sample_array1 = np.array([0, 1, 2, 3, 5, 7])\n",
    "    sample_array2 = np.array([1, 3, 4, 5, 7, 9])\n",
    "    print(f\"Given Array 1: {sample_array1}\")\n",
    "    print(f\"Given Array 2: {sample_array2}\")\n",
    "    print(f\"Set difference between two arrays:\")\n",
    "    print(f\"{set_diff(sample_array1, sample_array2)}\")"
   ]
  },
  {
   "cell_type": "code",
   "execution_count": 5,
   "metadata": {},
   "outputs": [
    {
     "name": "stdout",
     "output_type": "stream",
     "text": [
      "Given Array 1: [0 1 2 3 5 7]\n",
      "Given Array 2: [1 3 4 5 7 9]\n",
      "Set difference between two arrays:\n",
      "[0 2]\n"
     ]
    }
   ],
   "source": [
    "if __name__ == \"__main__\":\n",
    "    main()"
   ]
  }
 ],
 "metadata": {
  "interpreter": {
   "hash": "aee8b7b246df8f9039afb4144a1f6fd8d2ca17a180786b69acc140d282b71a49"
  },
  "kernelspec": {
   "display_name": "Python 3.10.2 64-bit",
   "language": "python",
   "name": "python3"
  },
  "language_info": {
   "codemirror_mode": {
    "name": "ipython",
    "version": 3
   },
   "file_extension": ".py",
   "mimetype": "text/x-python",
   "name": "python",
   "nbconvert_exporter": "python",
   "pygments_lexer": "ipython3",
   "version": "3.10.2"
  },
  "orig_nbformat": 4
 },
 "nbformat": 4,
 "nbformat_minor": 2
}
