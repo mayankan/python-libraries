{
 "cells": [
  {
   "cell_type": "code",
   "execution_count": 1,
   "metadata": {},
   "outputs": [
    {
     "data": {
      "text/plain": [
       "'\\n    @Author: Mayank Anand\\n    @Date: 2022-03-22\\n    @Last Modified by: Mayank Anand\\n    @Last Modified time: 2022-03-22\\n    @Title: numPy Programs - Add Border to Ones Matrix\\n'"
      ]
     },
     "execution_count": 1,
     "metadata": {},
     "output_type": "execute_result"
    }
   ],
   "source": [
    "\"\"\"\n",
    "    @Author: Mayank Anand\n",
    "    @Date: 2022-03-22\n",
    "    @Last Modified by: Mayank Anand\n",
    "    @Last Modified time: 2022-03-22\n",
    "    @Title: numPy Programs - Add Border to Ones Matrix\n",
    "\"\"\""
   ]
  },
  {
   "cell_type": "code",
   "execution_count": 2,
   "metadata": {},
   "outputs": [],
   "source": [
    "# Importing required libraries\n",
    "import numpy as np\n",
    "import logger\n",
    "\n",
    "logger = logger.logging_init('add_border_to_ones_matrix')"
   ]
  },
  {
   "cell_type": "code",
   "execution_count": 3,
   "metadata": {},
   "outputs": [],
   "source": [
    "def add_0_border(given_matrix):\n",
    "    \"\"\"\n",
    "    Description:\n",
    "        Adds 0 border to given matrix of any size.\n",
    "    Parameter:\n",
    "        given_matrix: Given matrix of any size in which border 0 is to be added.\n",
    "    Return:\n",
    "        Resultant matrix with 0 on border and same remaining values in the given matrix.\n",
    "    \"\"\"\n",
    "    bordered_matrix = np.pad(given_matrix, pad_width=1, mode='constant', constant_values=0)\n",
    "    return bordered_matrix"
   ]
  },
  {
   "cell_type": "code",
   "execution_count": 4,
   "metadata": {},
   "outputs": [],
   "source": [
    "def main():\n",
    "    sample_matrix = np.ones((3,3))\n",
    "    logger.info(f\"Given Matrix:\")\n",
    "    logger.info(f\"{sample_matrix}\")\n",
    "    logger.info(f\"Matrix after adding 0 on the border of one's Matrix:\")\n",
    "    logger.info(f\"({add_0_border(sample_matrix)}\")"
   ]
  },
  {
   "cell_type": "code",
   "execution_count": 5,
   "metadata": {},
   "outputs": [
    {
     "name": "stderr",
     "output_type": "stream",
     "text": [
      "2022-03-22 19:21:39,627:INFO:add_border_to_ones_matrix:Given Matrix:\n",
      "2022-03-22 19:21:39,629:INFO:add_border_to_ones_matrix:[[1. 1. 1.]\n",
      " [1. 1. 1.]\n",
      " [1. 1. 1.]]\n",
      "2022-03-22 19:21:39,630:INFO:add_border_to_ones_matrix:Matrix after adding 0 on the border of one's Matrix:\n",
      "2022-03-22 19:21:39,632:INFO:add_border_to_ones_matrix:([[0. 0. 0. 0. 0.]\n",
      " [0. 1. 1. 1. 0.]\n",
      " [0. 1. 1. 1. 0.]\n",
      " [0. 1. 1. 1. 0.]\n",
      " [0. 0. 0. 0. 0.]]\n"
     ]
    }
   ],
   "source": [
    "if __name__ == \"__main__\":\n",
    "    main()"
   ]
  },
  {
   "cell_type": "code",
   "execution_count": null,
   "metadata": {},
   "outputs": [],
   "source": []
  }
 ],
 "metadata": {
  "interpreter": {
   "hash": "aee8b7b246df8f9039afb4144a1f6fd8d2ca17a180786b69acc140d282b71a49"
  },
  "kernelspec": {
   "display_name": "Python 3.10.2 64-bit",
   "language": "python",
   "name": "python3"
  },
  "language_info": {
   "codemirror_mode": {
    "name": "ipython",
    "version": 3
   },
   "file_extension": ".py",
   "mimetype": "text/x-python",
   "name": "python",
   "nbconvert_exporter": "python",
   "pygments_lexer": "ipython3",
   "version": "3.10.2"
  },
  "orig_nbformat": 4
 },
 "nbformat": 4,
 "nbformat_minor": 2
}
