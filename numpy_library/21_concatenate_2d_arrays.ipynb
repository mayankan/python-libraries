{
 "cells": [
  {
   "cell_type": "code",
   "execution_count": 11,
   "metadata": {},
   "outputs": [
    {
     "data": {
      "text/plain": [
       "'\\n    @Author: Mayank Anand\\n    @Date: 2022-03-23\\n    @Last Modified by: Mayank Anand\\n    @Last Modified time: 2022-03-23\\n    @Title: numPy Programs - Concatenate two 2dimensional arrays\\n'"
      ]
     },
     "execution_count": 11,
     "metadata": {},
     "output_type": "execute_result"
    }
   ],
   "source": [
    "\"\"\"\n",
    "    @Author: Mayank Anand\n",
    "    @Date: 2022-03-23\n",
    "    @Last Modified by: Mayank Anand\n",
    "    @Last Modified time: 2022-03-23\n",
    "    @Title: numPy Programs - Concatenate two 2dimensional arrays\n",
    "\"\"\""
   ]
  },
  {
   "cell_type": "code",
   "execution_count": 12,
   "metadata": {},
   "outputs": [],
   "source": [
    "# Importing required libraries\n",
    "import numpy as np\n",
    "import logger\n",
    "\n",
    "logger = logger.logging_init('concatenate_2d_arrays')"
   ]
  },
  {
   "cell_type": "code",
   "execution_count": 13,
   "metadata": {},
   "outputs": [],
   "source": [
    "def concatenate_2darrays(given_array1, given_array2):\n",
    "    \"\"\"\n",
    "    Description :\n",
    "        Concatenates two given 2-Dimensional arrays.\n",
    "    Parameters :\n",
    "        given_array1: Given array which is to be concatenated with other given array.\n",
    "        given_array2: Given other array which is to be concatenated with first array.\n",
    "    Return :\n",
    "        Concatenated array of the two given 2D arrays.\n",
    "    \"\"\"\n",
    "    # axis=1 for column wise concatenation, axis=0 can be used for row wise concatenation.\n",
    "    return np.concatenate((given_array1, given_array2), axis=1)"
   ]
  },
  {
   "cell_type": "code",
   "execution_count": 14,
   "metadata": {},
   "outputs": [],
   "source": [
    "def main():\n",
    "    sample_array = np.array([[0, 1, 2], [5, 6, 7]])\n",
    "    sample_array2 = np.array([[0, 2, 4], [3, 7, 9]])\n",
    "    logger.info(f\"Given Array 1: {sample_array}\")\n",
    "    logger.info(f\"Given Array 2: {sample_array2}\")\n",
    "    logger.info(f\"Concantenation of two given arrays: {concatenate_2darrays(sample_array, sample_array2)}\")"
   ]
  },
  {
   "cell_type": "code",
   "execution_count": 15,
   "metadata": {},
   "outputs": [
    {
     "name": "stdout",
     "output_type": "stream",
     "text": [
      "Given Array 1: [[0 1 2]\n",
      " [5 6 7]]\n",
      "Given Array 2: [[0 2 4]\n",
      " [3 7 9]]\n",
      "Concantenation of two given arrays: [[0 1 2 0 2 4]\n",
      " [5 6 7 3 7 9]]\n"
     ]
    }
   ],
   "source": [
    "if __name__ == \"__main__\":\n",
    "    main()"
   ]
  }
 ],
 "metadata": {
  "interpreter": {
   "hash": "aee8b7b246df8f9039afb4144a1f6fd8d2ca17a180786b69acc140d282b71a49"
  },
  "kernelspec": {
   "display_name": "Python 3.10.2 64-bit",
   "language": "python",
   "name": "python3"
  },
  "language_info": {
   "codemirror_mode": {
    "name": "ipython",
    "version": 3
   },
   "file_extension": ".py",
   "mimetype": "text/x-python",
   "name": "python",
   "nbconvert_exporter": "python",
   "pygments_lexer": "ipython3",
   "version": "3.10.2"
  },
  "orig_nbformat": 4
 },
 "nbformat": 4,
 "nbformat_minor": 2
}
