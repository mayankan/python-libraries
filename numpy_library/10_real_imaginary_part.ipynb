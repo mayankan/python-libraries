{
 "cells": [
  {
   "cell_type": "code",
   "execution_count": 1,
   "metadata": {},
   "outputs": [
    {
     "data": {
      "text/plain": [
       "'\\n    @Author: Mayank Anand\\n    @Date: 2022-03-22\\n    @Last Modified by: Mayank Anand\\n    @Last Modified time: 2022-03-22\\n    @Title: numPy Programs - Separate Real and Imaginary Parts of Complex Numbers\\n'"
      ]
     },
     "execution_count": 1,
     "metadata": {},
     "output_type": "execute_result"
    }
   ],
   "source": [
    "\"\"\"\n",
    "    @Author: Mayank Anand\n",
    "    @Date: 2022-03-22\n",
    "    @Last Modified by: Mayank Anand\n",
    "    @Last Modified time: 2022-03-22\n",
    "    @Title: numPy Programs - Separate Real and Imaginary Parts of Complex Numbers\n",
    "\"\"\""
   ]
  },
  {
   "cell_type": "code",
   "execution_count": 2,
   "metadata": {},
   "outputs": [],
   "source": [
    "# Importing required libraries\n",
    "import numpy as np\n",
    "import logger\n",
    "\n",
    "logger = logger.logging_init('real_imaginary_part')"
   ]
  },
  {
   "cell_type": "code",
   "execution_count": 3,
   "metadata": {},
   "outputs": [],
   "source": [
    "def real_part(given_array):\n",
    "    real_part = np.array([])\n",
    "    for element in given_array:\n",
    "        complex_no = complex(element)\n",
    "        real_part = np.append(real_part, complex_no.real)\n",
    "    return real_part"
   ]
  },
  {
   "cell_type": "code",
   "execution_count": 4,
   "metadata": {},
   "outputs": [],
   "source": [
    "def imaginary_part(given_array):\n",
    "    imaginary_part = np.array([])\n",
    "    for element in given_array:\n",
    "        complex_no = complex(element)\n",
    "        imaginary_part = np.append(imaginary_part, complex_no.imag)\n",
    "    return imaginary_part"
   ]
  },
  {
   "cell_type": "code",
   "execution_count": 5,
   "metadata": {},
   "outputs": [],
   "source": [
    "def main():\n",
    "    sample_array = np.array([1.00000000+0.j, 0.70710678+0.70710678j], dtype=complex)\n",
    "    logger.info(f\"Given Array: {sample_array}\")\n",
    "    logger.info(f\"Real part of the array: {real_part(sample_array)}\")\n",
    "    logger.info(f\"Imaginary part of the array : {imaginary_part(sample_array)}\")"
   ]
  },
  {
   "cell_type": "code",
   "execution_count": 6,
   "metadata": {},
   "outputs": [
    {
     "name": "stderr",
     "output_type": "stream",
     "text": [
      "2022-03-23 01:19:30,205:INFO:real_imaginary_part:Given Array: [1.        +0.j         0.70710678+0.70710678j]\n",
      "2022-03-23 01:19:30,205:INFO:real_imaginary_part:Real part of the array: [1.         0.70710678]\n",
      "2022-03-23 01:19:30,206:INFO:real_imaginary_part:Imaginary part of the array : [0.         0.70710678]\n"
     ]
    }
   ],
   "source": [
    "if __name__ == \"__main__\":\n",
    "    main()"
   ]
  },
  {
   "cell_type": "code",
   "execution_count": null,
   "metadata": {},
   "outputs": [],
   "source": []
  }
 ],
 "metadata": {
  "interpreter": {
   "hash": "aee8b7b246df8f9039afb4144a1f6fd8d2ca17a180786b69acc140d282b71a49"
  },
  "kernelspec": {
   "display_name": "Python 3.10.2 64-bit",
   "language": "python",
   "name": "python3"
  },
  "language_info": {
   "codemirror_mode": {
    "name": "ipython",
    "version": 3
   },
   "file_extension": ".py",
   "mimetype": "text/x-python",
   "name": "python",
   "nbconvert_exporter": "python",
   "pygments_lexer": "ipython3",
   "version": "3.10.2"
  },
  "orig_nbformat": 4
 },
 "nbformat": 4,
 "nbformat_minor": 2
}
