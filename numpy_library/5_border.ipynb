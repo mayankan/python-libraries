{
 "cells": [
  {
   "cell_type": "code",
   "execution_count": 1,
   "metadata": {},
   "outputs": [
    {
     "data": {
      "text/plain": [
       "'\\n    @Author: Mayank Anand\\n    @Date: 2022-03-22\\n    @Last Modified by: Mayank Anand\\n    @Last Modified time: 2022-03-22\\n    @Title: numPy Programs - Add Null Values to Ones Matrix\\n'"
      ]
     },
     "execution_count": 1,
     "metadata": {},
     "output_type": "execute_result"
    }
   ],
   "source": [
    "\"\"\"\n",
    "    @Author: Mayank Anand\n",
    "    @Date: 2022-03-22\n",
    "    @Last Modified by: Mayank Anand\n",
    "    @Last Modified time: 2022-03-22\n",
    "    @Title: numPy Programs - Add Null Values to Ones Matrix\n",
    "\"\"\""
   ]
  },
  {
   "cell_type": "code",
   "execution_count": 2,
   "metadata": {},
   "outputs": [],
   "source": [
    "# Importing required libraries\n",
    "import numpy as np\n",
    "import logger\n",
    "\n",
    "logger = logger.logging_init('add_border_1_to_matrix')"
   ]
  },
  {
   "cell_type": "code",
   "execution_count": 3,
   "metadata": {},
   "outputs": [],
   "source": [
    "def add_0_to_ones_matrix(ones_matrix):\n",
    "    \"\"\"\n",
    "    Description:\n",
    "        Adds 0 inside 5 by 5 matrix containing all 1 values leaving only border with 1 values.\n",
    "    Parameter:\n",
    "        ones_matrix: 5 by 5 matrix containing all 1 values.\n",
    "    Return:\n",
    "        Resultant matrix with 1 on border and 0 on the inside of the matrix.\n",
    "    \"\"\"\n",
    "    ones_matrix[1:4,1:4] = 0\n",
    "    return ones_matrix"
   ]
  },
  {
   "cell_type": "code",
   "execution_count": 4,
   "metadata": {},
   "outputs": [],
   "source": [
    "def main():\n",
    "    # Creates 5 by 5 ones matrix using numPy ones method.\n",
    "    ones_matrix = np.ones((5,5))\n",
    "    logger.info(f\"Given 5-dimensional Matrix:\")\n",
    "    logger.info(f\"{ones_matrix}\")\n",
    "    logger.info(f\"Matrix after adding 0 inside in the array leaving border with 1:\")\n",
    "    logger.info(f\"{add_0_to_ones_matrix(ones_matrix)}\")"
   ]
  },
  {
   "cell_type": "code",
   "execution_count": 5,
   "metadata": {},
   "outputs": [
    {
     "name": "stderr",
     "output_type": "stream",
     "text": [
      "2022-03-22 19:08:02,679:INFO:add_border_1_to_matrix:Given 5-dimensional Matrix:\n",
      "2022-03-22 19:08:02,681:INFO:add_border_1_to_matrix:[[1. 1. 1. 1. 1.]\n",
      " [1. 1. 1. 1. 1.]\n",
      " [1. 1. 1. 1. 1.]\n",
      " [1. 1. 1. 1. 1.]\n",
      " [1. 1. 1. 1. 1.]]\n",
      "2022-03-22 19:08:02,682:INFO:add_border_1_to_matrix:Matrix after adding 0 inside in the array leaving border with 1:\n",
      "2022-03-22 19:08:02,683:INFO:add_border_1_to_matrix:[[1. 1. 1. 1. 1.]\n",
      " [1. 0. 0. 0. 1.]\n",
      " [1. 0. 0. 0. 1.]\n",
      " [1. 0. 0. 0. 1.]\n",
      " [1. 1. 1. 1. 1.]]\n"
     ]
    }
   ],
   "source": [
    "if __name__ == \"__main__\":\n",
    "    main()"
   ]
  }
 ],
 "metadata": {
  "interpreter": {
   "hash": "aee8b7b246df8f9039afb4144a1f6fd8d2ca17a180786b69acc140d282b71a49"
  },
  "kernelspec": {
   "display_name": "Python 3.10.2 64-bit",
   "language": "python",
   "name": "python3"
  },
  "language_info": {
   "codemirror_mode": {
    "name": "ipython",
    "version": 3
   },
   "file_extension": ".py",
   "mimetype": "text/x-python",
   "name": "python",
   "nbconvert_exporter": "python",
   "pygments_lexer": "ipython3",
   "version": "3.10.2"
  },
  "orig_nbformat": 4
 },
 "nbformat": 4,
 "nbformat_minor": 2
}
