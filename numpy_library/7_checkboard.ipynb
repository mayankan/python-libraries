{
 "cells": [
  {
   "cell_type": "code",
   "execution_count": 1,
   "metadata": {},
   "outputs": [
    {
     "data": {
      "text/plain": [
       "'\\n    @Author: Mayank Anand\\n    @Date: 2022-03-22\\n    @Last Modified by: Mayank Anand\\n    @Last Modified time: 2022-03-22\\n    @Title: numPy Programs - Checkboard Matrix\\n'"
      ]
     },
     "execution_count": 1,
     "metadata": {},
     "output_type": "execute_result"
    }
   ],
   "source": [
    "\"\"\"\n",
    "    @Author: Mayank Anand\n",
    "    @Date: 2022-03-22\n",
    "    @Last Modified by: Mayank Anand\n",
    "    @Last Modified time: 2022-03-22\n",
    "    @Title: numPy Programs - Checkboard Matrix\n",
    "\"\"\""
   ]
  },
  {
   "cell_type": "code",
   "execution_count": 2,
   "metadata": {},
   "outputs": [],
   "source": [
    "# Importing required libraries\n",
    "import numpy as np\n",
    "import logger\n",
    "\n",
    "logger = logger.logging_init('checkboard_matrix')"
   ]
  },
  {
   "cell_type": "code",
   "execution_count": 3,
   "metadata": {},
   "outputs": [],
   "source": [
    "def checkboard_matrix(given_matrix):\n",
    "    \"\"\"\n",
    "    Description:\n",
    "        Adds 0 border to given matrix of any size.\n",
    "    Parameter:\n",
    "        given_matrix: Given matrix of any size in which border 0 is to be added.\n",
    "    Return:\n",
    "        Resultant matrix with 0 on border and same remaining values in the given matrix.\n",
    "    \"\"\"\n",
    "    given_matrix[1::2, ::2] = 1\n",
    "    given_matrix[::2, 1::2] = 1\n",
    "    return given_matrix\n"
   ]
  },
  {
   "cell_type": "code",
   "execution_count": 4,
   "metadata": {},
   "outputs": [],
   "source": [
    "def main():\n",
    "    null_matrix = np.zeros((8,8))\n",
    "    logger.info(f\"Matrix after adding Checkboard Pattern:\")\n",
    "    logger.info(f\"{checkboard_matrix(null_matrix)}\")"
   ]
  },
  {
   "cell_type": "code",
   "execution_count": 5,
   "metadata": {},
   "outputs": [
    {
     "name": "stderr",
     "output_type": "stream",
     "text": [
      "2022-03-22 19:25:31,353:INFO:checkboard_matrix:Matrix after adding Checkboard Pattern:\n",
      "2022-03-22 19:25:31,355:INFO:checkboard_matrix:[[0 1 0 1 0 1 0 1]\n",
      " [1 0 1 0 1 0 1 0]\n",
      " [0 1 0 1 0 1 0 1]\n",
      " [1 0 1 0 1 0 1 0]\n",
      " [0 1 0 1 0 1 0 1]\n",
      " [1 0 1 0 1 0 1 0]\n",
      " [0 1 0 1 0 1 0 1]\n",
      " [1 0 1 0 1 0 1 0]]\n"
     ]
    }
   ],
   "source": [
    "if __name__ == \"__main__\":\n",
    "    main()"
   ]
  }
 ],
 "metadata": {
  "interpreter": {
   "hash": "aee8b7b246df8f9039afb4144a1f6fd8d2ca17a180786b69acc140d282b71a49"
  },
  "kernelspec": {
   "display_name": "Python 3.10.2 64-bit",
   "language": "python",
   "name": "python3"
  },
  "language_info": {
   "codemirror_mode": {
    "name": "ipython",
    "version": 3
   },
   "file_extension": ".py",
   "mimetype": "text/x-python",
   "name": "python",
   "nbconvert_exporter": "python",
   "pygments_lexer": "ipython3",
   "version": "3.10.2"
  },
  "orig_nbformat": 4
 },
 "nbformat": 4,
 "nbformat_minor": 2
}
