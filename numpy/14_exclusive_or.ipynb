{
 "cells": [
  {
   "cell_type": "code",
   "execution_count": 1,
   "metadata": {},
   "outputs": [
    {
     "data": {
      "text/plain": [
       "'\\n    @Author: Mayank Anand\\n    @Date: 2022-03-22\\n    @Last Modified by: Mayank Anand\\n    @Last Modified time: 2022-03-22\\n    @Title: numPy Programs - Exclusive Or between two arrays\\n'"
      ]
     },
     "execution_count": 1,
     "metadata": {},
     "output_type": "execute_result"
    }
   ],
   "source": [
    "\"\"\"\n",
    "    @Author: Mayank Anand\n",
    "    @Date: 2022-03-22\n",
    "    @Last Modified by: Mayank Anand\n",
    "    @Last Modified time: 2022-03-22\n",
    "    @Title: numPy Programs - Exclusive Or between two arrays\n",
    "\"\"\""
   ]
  },
  {
   "cell_type": "code",
   "execution_count": 2,
   "metadata": {},
   "outputs": [],
   "source": [
    "import numpy as np\n",
    "import logger\n",
    "\n",
    "logger = logger.logging_init('xor_arrays')"
   ]
  },
  {
   "cell_type": "code",
   "execution_count": 3,
   "metadata": {},
   "outputs": [],
   "source": [
    "def set_exclusive_or(given_array1, given_array2):\n",
    "    \"\"\"\n",
    "    Description:\n",
    "        Finds the set exclusive-or of two given arrays.\n",
    "    Parameters:\n",
    "        given_array1: Given array whose exclusive-or is to be calculated with other given array.\n",
    "        given_array2: Given other array whose exclusive-or is to be calculated with first given array.\n",
    "    Return:\n",
    "        Set exclusive-or of two given arrays.\n",
    "    \"\"\"\n",
    "    return np.setxor1d(given_array1, given_array2)"
   ]
  },
  {
   "cell_type": "code",
   "execution_count": 4,
   "metadata": {},
   "outputs": [],
   "source": [
    "def main():\n",
    "    sample_array1 = np.array([0, 1, 2, 3, 4, 5])\n",
    "    sample_array2 = np.array([1, 3, 5, 7, 9])\n",
    "    logger.info(f\"Given Array 1: {sample_array1}\")\n",
    "    logger.info(f\"Given Array 2: {sample_array2}\")\n",
    "    logger.info(f\"Set difference between two arrays:\")\n",
    "    logger.info(f\"{set_exclusive_or(sample_array1, sample_array2)}\")"
   ]
  },
  {
   "cell_type": "code",
   "execution_count": 5,
   "metadata": {},
   "outputs": [
    {
     "name": "stderr",
     "output_type": "stream",
     "text": [
      "2022-03-23 01:52:05,377:INFO:xor_arrays:Given Array 1: [0 1 2 3 4 5]\n",
      "2022-03-23 01:52:05,380:INFO:xor_arrays:Given Array 2: [1 3 5 7 9]\n",
      "2022-03-23 01:52:05,381:INFO:xor_arrays:Set difference between two arrays:\n",
      "2022-03-23 01:52:05,382:INFO:xor_arrays:[0 2 4 7 9]\n"
     ]
    }
   ],
   "source": [
    "if __name__ == \"__main__\":\n",
    "    main()"
   ]
  }
 ],
 "metadata": {
  "interpreter": {
   "hash": "aee8b7b246df8f9039afb4144a1f6fd8d2ca17a180786b69acc140d282b71a49"
  },
  "kernelspec": {
   "display_name": "Python 3.10.2 64-bit",
   "language": "python",
   "name": "python3"
  },
  "language_info": {
   "codemirror_mode": {
    "name": "ipython",
    "version": 3
   },
   "file_extension": ".py",
   "mimetype": "text/x-python",
   "name": "python",
   "nbconvert_exporter": "python",
   "pygments_lexer": "ipython3",
   "version": "3.10.2"
  },
  "orig_nbformat": 4
 },
 "nbformat": 4,
 "nbformat_minor": 2
}
