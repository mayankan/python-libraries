{
 "cells": [
  {
   "cell_type": "code",
   "execution_count": 1,
   "metadata": {},
   "outputs": [
    {
     "data": {
      "text/plain": [
       "'\\n    @Author: Mayank Anand\\n    @Date: 2022-03-22\\n    @Last Modified by: Mayank Anand\\n    @Last Modified time: 2022-03-22\\n    @Title: numPy Programs - Common values between two arrays\\n'"
      ]
     },
     "execution_count": 1,
     "metadata": {},
     "output_type": "execute_result"
    }
   ],
   "source": [
    "\"\"\"\n",
    "    @Author: Mayank Anand\n",
    "    @Date: 2022-03-22\n",
    "    @Last Modified by: Mayank Anand\n",
    "    @Last Modified time: 2022-03-22\n",
    "    @Title: numPy Programs - Common values between two arrays\n",
    "\"\"\""
   ]
  },
  {
   "cell_type": "code",
   "execution_count": 2,
   "metadata": {},
   "outputs": [],
   "source": [
    "import numpy as np\n",
    "import logger\n",
    "\n",
    "logger = logger.logging_init('common_values')"
   ]
  },
  {
   "cell_type": "code",
   "execution_count": 3,
   "metadata": {},
   "outputs": [],
   "source": [
    "def common_values(given_array1, given_array2):\n",
    "    \"\"\"\n",
    "    Description:\n",
    "        Returns the common values between two arrays.\n",
    "    Parameters:\n",
    "        given_array1: Given array to be compared with another array for common values.\n",
    "        given_array2: Given other array to be compared with first array for common values.\n",
    "    Return:\n",
    "        Common values between the two arrays.\n",
    "    \"\"\"\n",
    "    return np.intersect1d(given_array1, given_array2)"
   ]
  },
  {
   "cell_type": "code",
   "execution_count": 4,
   "metadata": {},
   "outputs": [],
   "source": [
    "def main():\n",
    "    sample_array1 = np.array([0, 1, 2, 3, 5])\n",
    "    sample_array2 = np.array([1, 7, 8])\n",
    "    logger.info(f\"Given Array 1: {sample_array1}\")\n",
    "    logger.info(f\"Given Array 2: {sample_array2}\")\n",
    "    logger.info(f\"Common values between Two given Arrays:\")\n",
    "    logger.info(f\"{common_values(sample_array1, sample_array2)}\")"
   ]
  },
  {
   "cell_type": "code",
   "execution_count": 5,
   "metadata": {},
   "outputs": [
    {
     "name": "stderr",
     "output_type": "stream",
     "text": [
      "2022-03-23 01:29:28,372:INFO:common_values:Given Array 1: [0 1 2 3 5]\n",
      "2022-03-23 01:29:28,374:INFO:common_values:Given Array 2: [1 7 8]\n",
      "2022-03-23 01:29:28,376:INFO:common_values:Common values between Two given Arrays:\n",
      "2022-03-23 01:29:28,377:INFO:common_values:[1]\n"
     ]
    }
   ],
   "source": [
    "if __name__ == \"__main__\":\n",
    "    main()"
   ]
  }
 ],
 "metadata": {
  "interpreter": {
   "hash": "aee8b7b246df8f9039afb4144a1f6fd8d2ca17a180786b69acc140d282b71a49"
  },
  "kernelspec": {
   "display_name": "Python 3.10.2 64-bit",
   "language": "python",
   "name": "python3"
  },
  "language_info": {
   "codemirror_mode": {
    "name": "ipython",
    "version": 3
   },
   "file_extension": ".py",
   "mimetype": "text/x-python",
   "name": "python",
   "nbconvert_exporter": "python",
   "pygments_lexer": "ipython3",
   "version": "3.10.2"
  },
  "orig_nbformat": 4
 },
 "nbformat": 4,
 "nbformat_minor": 2
}
