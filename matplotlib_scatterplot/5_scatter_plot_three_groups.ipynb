{
 "cells": [
  {
   "cell_type": "code",
   "execution_count": 1,
   "metadata": {},
   "outputs": [
    {
     "data": {
      "text/plain": [
       "'\\n    @Author: Mayank Anand\\n    @Date: 2022-03-29\\n    @Last Modified by: Mayank Anand\\n    @Last Modified time: 2022-03-29\\n    @Title: MatPlotLib Programs - Drawing a Scatter plot of three groups using Data provided\\n'"
      ]
     },
     "execution_count": 1,
     "metadata": {},
     "output_type": "execute_result"
    }
   ],
   "source": [
    "\"\"\"\n",
    "    @Author: Mayank Anand\n",
    "    @Date: 2022-03-29\n",
    "    @Last Modified by: Mayank Anand\n",
    "    @Last Modified time: 2022-03-29\n",
    "    @Title: MatPlotLib Programs - Drawing a Scatter plot of three groups using Data provided\n",
    "\"\"\""
   ]
  },
  {
   "cell_type": "code",
   "execution_count": 2,
   "metadata": {},
   "outputs": [],
   "source": [
    "import matplotlib.pyplot as plt\n",
    "import numpy as np\n",
    "import pandas as pd"
   ]
  },
  {
   "cell_type": "code",
   "execution_count": 3,
   "metadata": {},
   "outputs": [],
   "source": [
    "def plot_scatter_plot(x_input, y_input, plt_label, plt_color):\n",
    "    \"\"\"\n",
    "    Description:\n",
    "        Plots Pie Chart with given label and color using given x and y inputs.\n",
    "    Parameter:\n",
    "        x_input: List with values to be plotted as labels.\n",
    "        y_input: List with values to be plotted on Y-Axis.\n",
    "        plt_label: String value having Label given to the scatter plot.\n",
    "        plt_color: String value having Color given to the scatter plot.\n",
    "    Return:\n",
    "        None.\n",
    "    \"\"\"\n",
    "    plt.scatter(x_input, y_input, label = plt_label, color = plt_color)"
   ]
  },
  {
   "cell_type": "code",
   "execution_count": 4,
   "metadata": {},
   "outputs": [],
   "source": [
    "def set_labels_title_show():\n",
    "    \"\"\"\n",
    "    Description:\n",
    "        Calls Show command of Pyplot after Setting the X and Y Axis Labels and Title of the plot.\n",
    "    Parameter:\n",
    "        None.\n",
    "    Return:\n",
    "        None.\n",
    "    \"\"\"\n",
    "    plt.title(\"Mathematics and Science Marks\")\n",
    "    plt.xlabel(\"Marks range\")\n",
    "    plt.ylabel(\"Marks obtained\")\n",
    "    plt.legend()\n",
    "    plt.show()"
   ]
  },
  {
   "cell_type": "code",
   "execution_count": 5,
   "metadata": {},
   "outputs": [],
   "source": [
    "def main():\n",
    "    weight1=np.random.randint(1,60,20)\n",
    "    weight2=np.random.randint(1,60,20)\n",
    "    weight3=np.random.randint(1,60,20)\n",
    "    height1=np.random.randint(1,240,20)\n",
    "    height2=np.random.randint(1,240,20)\n",
    "    height3=np.random.randint(1,240,20)\n",
    "    plot_scatter_plot(weight1, height1, \"Group 1\", 'b')\n",
    "    plot_scatter_plot(weight2, weight2, \"Group 2\", 'g')\n",
    "    plot_scatter_plot(weight3, weight3, \"Group 3\", 'r')\n",
    "    set_labels_title_show()"
   ]
  },
  {
   "cell_type": "code",
   "execution_count": 6,
   "metadata": {},
   "outputs": [
    {
     "data": {
      "image/png": "[encoded data removed]",
      "text/plain": [
       "<Figure size 432x288 with 1 Axes>"
      ]
     },
     "metadata": {
      "needs_background": "light"
     },
     "output_type": "display_data"
    }
   ],
   "source": [
    "if __name__ == \"__main__\":\n",
    "    main()"
   ]
  }
 ],
 "metadata": {
  "interpreter": {
   "hash": "6da4a036b2b59ae1a611421fb19f0e0cb2f7c8dbc75f7b4165b79785cfc84971"
  },
  "kernelspec": {
   "display_name": "Python 3.9.5 64-bit",
   "language": "python",
   "name": "python3"
  },
  "language_info": {
   "codemirror_mode": {
    "name": "ipython",
    "version": 3
   },
   "file_extension": ".py",
   "mimetype": "text/x-python",
   "name": "python",
   "nbconvert_exporter": "python",
   "pygments_lexer": "ipython3",
   "version": "3.9.5"
  },
  "orig_nbformat": 4
 },
 "nbformat": 4,
 "nbformat_minor": 2
}
