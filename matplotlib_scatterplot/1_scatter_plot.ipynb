{
 "cells": [
  {
   "cell_type": "code",
   "execution_count": 1,
   "metadata": {},
   "outputs": [
    {
     "data": {
      "text/plain": [
       "'\\n    @Author: Mayank Anand\\n    @Date: 2022-03-29\\n    @Last Modified by: Mayank Anand\\n    @Last Modified time: 2022-03-29\\n    @Title: MatPlotLib Programs - Drawing a Scatter plot of Random Distributions\\n'"
      ]
     },
     "execution_count": 1,
     "metadata": {},
     "output_type": "execute_result"
    }
   ],
   "source": [
    "\"\"\"\n",
    "    @Author: Mayank Anand\n",
    "    @Date: 2022-03-29\n",
    "    @Last Modified by: Mayank Anand\n",
    "    @Last Modified time: 2022-03-29\n",
    "    @Title: MatPlotLib Programs - Drawing a Scatter plot of Random Distributions\n",
    "\"\"\""
   ]
  },
  {
   "cell_type": "code",
   "execution_count": 2,
   "metadata": {},
   "outputs": [],
   "source": [
    "import matplotlib.pyplot as plt\n",
    "import numpy as np"
   ]
  },
  {
   "cell_type": "code",
   "execution_count": 3,
   "metadata": {},
   "outputs": [],
   "source": [
    "def plot_scatter_plot(x_input, y_input):\n",
    "    \"\"\"\n",
    "    Description:\n",
    "        Plots Scatter plot using given x and y inputs.\n",
    "    Parameter:\n",
    "        x_input: List with values to be plotted as X-Axis.\n",
    "        y_input: List with values to be plotted on Y-Axis.\n",
    "    Return:\n",
    "        None.\n",
    "    \"\"\"\n",
    "    plt.scatter(x_input, y_input)"
   ]
  },
  {
   "cell_type": "code",
   "execution_count": 4,
   "metadata": {},
   "outputs": [],
   "source": [
    "def main():\n",
    "    sample_x = np.random.rand(5)\n",
    "    sample_y = np.random.rand(5)\n",
    "    plot_scatter_plot(sample_x, sample_y)\n",
    "    plt.show()"
   ]
  },
  {
   "cell_type": "code",
   "execution_count": 5,
   "metadata": {},
   "outputs": [
    {
     "data": {
      "image/png": "[encoded data removed]",
      "text/plain": [
       "<Figure size 432x288 with 1 Axes>"
      ]
     },
     "metadata": {
      "needs_background": "light"
     },
     "output_type": "display_data"
    }
   ],
   "source": [
    "if __name__ == \"__main__\":\n",
    "    main()"
   ]
  }
 ],
 "metadata": {
  "interpreter": {
   "hash": "6da4a036b2b59ae1a611421fb19f0e0cb2f7c8dbc75f7b4165b79785cfc84971"
  },
  "kernelspec": {
   "display_name": "Python 3.9.5 64-bit",
   "language": "python",
   "name": "python3"
  },
  "language_info": {
   "codemirror_mode": {
    "name": "ipython",
    "version": 3
   },
   "file_extension": ".py",
   "mimetype": "text/x-python",
   "name": "python",
   "nbconvert_exporter": "python",
   "pygments_lexer": "ipython3",
   "version": "3.9.5"
  },
  "orig_nbformat": 4
 },
 "nbformat": 4,
 "nbformat_minor": 2
}
