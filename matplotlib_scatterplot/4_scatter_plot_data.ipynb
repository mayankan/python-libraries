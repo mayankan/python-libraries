{
 "cells": [
  {
   "cell_type": "code",
   "execution_count": 7,
   "metadata": {},
   "outputs": [
    {
     "data": {
      "text/plain": [
       "'\\n    @Author: Mayank Anand\\n    @Date: 2022-03-29\\n    @Last Modified by: Mayank Anand\\n    @Last Modified time: 2022-03-29\\n    @Title: MatPlotLib Programs - Drawing a Scatter plot using CSV Data\\n'"
      ]
     },
     "execution_count": 7,
     "metadata": {},
     "output_type": "execute_result"
    }
   ],
   "source": [
    "\"\"\"\n",
    "    @Author: Mayank Anand\n",
    "    @Date: 2022-03-29\n",
    "    @Last Modified by: Mayank Anand\n",
    "    @Last Modified time: 2022-03-29\n",
    "    @Title: MatPlotLib Programs - Drawing a Scatter plot using Data provided\n",
    "\"\"\""
   ]
  },
  {
   "cell_type": "code",
   "execution_count": 8,
   "metadata": {},
   "outputs": [],
   "source": [
    "import matplotlib.pyplot as plt\n",
    "import numpy as np\n",
    "import pandas as pd"
   ]
  },
  {
   "cell_type": "code",
   "execution_count": 9,
   "metadata": {},
   "outputs": [],
   "source": [
    "def plot_scatter_plot(x_input, y_input, plt_label, plt_color):\n",
    "    \"\"\"\n",
    "    Description:\n",
    "        Plots Scatter Plot with given label and color using given x and y inputs.\n",
    "    Parameter:\n",
    "        x_input: List with values to be plotted as labels.\n",
    "        y_input: List with values to be plotted on Y-Axis.\n",
    "        plt_label: String value having Label given to the scatter plot.\n",
    "        plt_color: String value having Color given to the scatter plot.\n",
    "    Return:\n",
    "        None.\n",
    "    \"\"\"\n",
    "    plt.scatter(x_input, y_input, label = plt_label, color = plt_color)"
   ]
  },
  {
   "cell_type": "code",
   "execution_count": 10,
   "metadata": {},
   "outputs": [],
   "source": [
    "def set_labels_title_show():\n",
    "    \"\"\"\n",
    "    Description:\n",
    "        Calls Show command of Pyplot after Setting the X and Y Axis Labels and Title of the plot.\n",
    "    Parameter:\n",
    "        None.\n",
    "    Return:\n",
    "        None.\n",
    "    \"\"\"\n",
    "    plt.title(\"Mathematics and Science Marks\")\n",
    "    plt.xlabel(\"Marks range\")\n",
    "    plt.ylabel(\"Marks obtained\")\n",
    "    plt.legend()\n",
    "    plt.show()"
   ]
  },
  {
   "cell_type": "code",
   "execution_count": 11,
   "metadata": {},
   "outputs": [],
   "source": [
    "def main():\n",
    "    math_marks = [88, 92, 80, 89, 100, 80, 60, 100, 80, 34]\n",
    "    science_marks = [35, 79, 79, 48, 100, 88, 32, 45, 20, 30]\n",
    "    marks_range = [10, 20, 30, 40, 50, 60, 70, 80, 90, 100]\n",
    "    plot_scatter_plot(marks_range, math_marks, \"Maths\", 'b')\n",
    "    plot_scatter_plot(marks_range, science_marks, \"Science\", 'g')\n",
    "    set_labels_title_show()"
   ]
  },
  {
   "cell_type": "code",
   "execution_count": 12,
   "metadata": {},
   "outputs": [
    {
     "data": {
      "image/png": "[encoded data removed]",
      "text/plain": [
       "<Figure size 432x288 with 1 Axes>"
      ]
     },
     "metadata": {
      "needs_background": "light"
     },
     "output_type": "display_data"
    }
   ],
   "source": [
    "if __name__ == \"__main__\":\n",
    "    main()"
   ]
  }
 ],
 "metadata": {
  "interpreter": {
   "hash": "6da4a036b2b59ae1a611421fb19f0e0cb2f7c8dbc75f7b4165b79785cfc84971"
  },
  "kernelspec": {
   "display_name": "Python 3.9.5 64-bit",
   "language": "python",
   "name": "python3"
  },
  "language_info": {
   "codemirror_mode": {
    "name": "ipython",
    "version": 3
   },
   "file_extension": ".py",
   "mimetype": "text/x-python",
   "name": "python",
   "nbconvert_exporter": "python",
   "pygments_lexer": "ipython3",
   "version": "3.9.5"
  },
  "orig_nbformat": 4
 },
 "nbformat": 4,
 "nbformat_minor": 2
}
